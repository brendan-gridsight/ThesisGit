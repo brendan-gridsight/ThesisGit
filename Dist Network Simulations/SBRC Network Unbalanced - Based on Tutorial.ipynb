{
 "cells": [
  {
   "cell_type": "markdown",
   "metadata": {},
   "source": [
    "# PandaPower SBRC Microgrid \n",
    "\n",
    "This notebook is for modelling the SBRC microgrid based on the following tutorial \n",
    "\n",
    "https://github.com/e2nIEE/pandapower/blob/develop/tutorials/three_phase_loadflow_tutorial_simple.ipynb\n"
   ]
  },
  {
   "cell_type": "code",
   "execution_count": 61,
   "metadata": {},
   "outputs": [],
   "source": [
    "import pandapower as pp\n",
    "import pandas as pd"
   ]
  },
  {
   "cell_type": "code",
   "execution_count": 62,
   "metadata": {},
   "outputs": [],
   "source": [
    "net = pp.create_empty_network(sn_mva=100)"
   ]
  },
  {
   "cell_type": "code",
   "execution_count": 63,
   "metadata": {},
   "outputs": [],
   "source": [
    "#Create Network Buses\n",
    "#b0 = pp.create_bus(net, vn_kv=10, name='MV-TX', geodata=(-34.400057,150.898845))\n",
    "b1 = pp.create_bus(net, vn_kv=0.4, name='LV-TX', geodata=(-34.399961,150.898769))\n",
    "b2 = pp.create_bus(net, vn_kv=0.4, name='SBRC',geodata=(-34.400124,150.899592))\n",
    "b3 = pp.create_bus(net, vn_kv=0.4, name='PILLAR',geodata=(-34.401032,150.897985))\n",
    "b4 = pp.create_bus(net, vn_kv=0.4, name='IFH',geodata=(-34.400898,150.897876))\n",
    "b5 = pp.create_bus(net, vn_kv=0.4, name='DRH',geodata=(-34.400762,150.897466))"
   ]
  },
  {
   "cell_type": "code",
   "execution_count": 64,
   "metadata": {},
   "outputs": [],
   "source": [
    "pp.create_ext_grid(net, vm_pu=1.0814, bus=b1, s_sc_max_mva=10000, rx_max=0.1)\n",
    "net.ext_grid[\"r0x0_max\"] = 0.1\n",
    "net.ext_grid[\"x0x_max\"] = 1.0"
   ]
  },
  {
   "cell_type": "code",
   "execution_count": 65,
   "metadata": {},
   "outputs": [],
   "source": [
    "#Create TX using parameters\n",
    "# pp.create_transformer_from_parameters(net, hv_bus=b0, lv_bus=b1, \n",
    "#                                           sn_mva= 0.4, vn_hv_kv= 10, \n",
    "#                                           vn_lv_kv= 0.4, vk_percent= 6, \n",
    "#                                           vkr_percent= 0.78125, pfe_kw= 2.7, \n",
    "#                                           i0_percent= 0.16875, shift_degree= 0, \n",
    "#                                           tap_side= 'lv',tap_neutral= 0,\n",
    "#                                           tap_min= -2, tap_max= 2,\n",
    "#                                           tap_step_degree= 0,\n",
    "#                                           tap_step_percent= 2.5,\n",
    "#                                           tap_phase_shifter= False,\n",
    "#                                           vk0_percent= 6, vkr0_percent= 0.78125, \n",
    "#                                           mag0_percent= 100, mag0_rx= 0.,\n",
    "#                                           si0_hv_partial= 0.9,vector_group= \"Dyn\",\n",
    "#                                           parallel=1,tap_pos=0,\n",
    "#                                           index=pp.get_free_id(net.trafo)+1,\n",
    "#                                            )\n",
    "\n",
    "# pp.create_transformer_from_parameters(net, hv_bus=b0, lv_bus=b1, \n",
    "#                                           sn_mva= 0.4, vn_hv_kv= 11, \n",
    "#                                           vn_lv_kv= 0.4, vk_percent= 4, \n",
    "#                                           vkr_percent= 1.325, pfe_kw= 0.95, \n",
    "#                                           i0_percent= 0.16875, shift_degree= 0, \n",
    "#                                           tap_side= 'hv',tap_neutral= 0,\n",
    "#                                           tap_min= -2, tap_max= 2,\n",
    "#                                           tap_step_degree= 0,\n",
    "#                                           tap_step_percent= 2.5,\n",
    "#                                           tap_phase_shifter= False,\n",
    "#                                           vk0_percent= 4, vkr0_percent= 1.325, \n",
    "#                                           mag0_percent= 100, mag0_rx= 0.,\n",
    "#                                           si0_hv_partial= 0.9,vector_group= \"Dyn\",\n",
    "#                                           parallel=1,tap_pos=0\n",
    "#                                            )"
   ]
  },
  {
   "cell_type": "code",
   "execution_count": 66,
   "metadata": {},
   "outputs": [],
   "source": [
    "#Create lines\n",
    "#Create Cables\n",
    "cable_25mm = dict(r_ohm_per_km=0.884,\n",
    "                  x_ohm_per_km=0.0973,\n",
    "                  c_nf_per_km=0.0,\n",
    "                  r0_ohm_per_km=0.884*10,\n",
    "                  x0_ohm_per_km=0.0973*10,\n",
    "                  c0_nf_per_km=0.0,\n",
    "                  max_i_ka=0.09,\n",
    "                 )\n",
    "\n",
    "cable_95mm = dict(r_ohm_per_km=0.236,\n",
    "                  x_ohm_per_km=0.0849,\n",
    "                  c_nf_per_km=0.0,\n",
    "                  r0_ohm_per_km=0.944,\n",
    "                  x0_ohm_per_km=0.3396,\n",
    "                  c0_nf_per_km=0.0,\n",
    "                  max_i_ka=0.244,\n",
    "                 )\n",
    "\n",
    "cable_240mm = dict(r_ohm_per_km=0.0948,\n",
    "                  x_ohm_per_km=0.0808,\n",
    "                  c_nf_per_km=0.0,\n",
    "                  r0_ohm_per_km=0.3792,\n",
    "                  x0_ohm_per_km=0.3232,\n",
    "                  c0_nf_per_km=0.0,\n",
    "                  max_i_ka=0.426,\n",
    "                 )\n",
    "\n",
    "\n",
    "# cable_25mm = dict(r_ohm_per_km=0.884,\n",
    "#                   x_ohm_per_km=0.0973,\n",
    "#                   c_nf_per_km=0.0,\n",
    "#                   r0_ohm_per_km=0,\n",
    "#                   x0_ohm_per_km=0,\n",
    "#                   c0_nf_per_km=0.0,\n",
    "#                   max_i_ka=0.09,\n",
    "#                  )\n",
    "\n",
    "# cable_95mm = dict(r_ohm_per_km=0.236,\n",
    "#                   x_ohm_per_km=0.0849,\n",
    "#                   c_nf_per_km=0.0,\n",
    "#                   r0_ohm_per_km=0,\n",
    "#                   x0_ohm_per_km=0,\n",
    "#                   c0_nf_per_km=0.0,\n",
    "#                   max_i_ka=0.244,\n",
    "#                  )\n",
    "\n",
    "# cable_240mm = dict(r_ohm_per_km=0.0948,\n",
    "#                   x_ohm_per_km=0.0808,\n",
    "#                   c_nf_per_km=0.0,\n",
    "#                   r0_ohm_per_km=0,\n",
    "#                   x0_ohm_per_km=0,\n",
    "#                   c0_nf_per_km=0.0,\n",
    "#                   max_i_ka=0.426,\n",
    "#                  )"
   ]
  },
  {
   "cell_type": "code",
   "execution_count": 67,
   "metadata": {},
   "outputs": [],
   "source": [
    "pp.create_std_type(net, cable_25mm, '25mm')\n",
    "pp.create_std_type(net, cable_95mm, '95mm')\n",
    "pp.create_std_type(net, cable_240mm, '240mm')\n",
    "#pp.create_std_type(net, cable_500mm, '500mm')"
   ]
  },
  {
   "cell_type": "code",
   "execution_count": 68,
   "metadata": {},
   "outputs": [
    {
     "data": {
      "text/plain": [
       "3"
      ]
     },
     "execution_count": 68,
     "metadata": {},
     "output_type": "execute_result"
    }
   ],
   "source": [
    "pp.create_line(net, from_bus=b1, to_bus=b2, length_km=0.1, name=\"Line1\",std_type='240mm') \n",
    "pp.create_line(net, from_bus=b2, to_bus=b3, length_km=0.3, name=\"Line2\",std_type='95mm') \n",
    "pp.create_line(net, from_bus=b3, to_bus=b4, length_km=0.05, name=\"Line3\",std_type='25mm') \n",
    "pp.create_line(net, from_bus=b3, to_bus=b5, length_km=0.08, name=\"Line4\",std_type='25mm')"
   ]
  },
  {
   "cell_type": "code",
   "execution_count": 69,
   "metadata": {},
   "outputs": [
    {
     "data": {
      "text/plain": [
       "2"
      ]
     },
     "execution_count": 69,
     "metadata": {},
     "output_type": "execute_result"
    }
   ],
   "source": [
    "pp.create_asymmetric_load(net, bus=b2,  p_a_mw=(1472/1000000), q_a_mvar=(-4227/1000000), p_b_mw=0, p_c_mw=0, name=\"SBRC_Load\")\n",
    "pp.create_asymmetric_load(net, bus=b4, p_a_mw=(-5000/1000000), q_a_mvar=(-300/1000000), p_b_mw=0, p_c_mw=0, name='IFH_Load')\n",
    "pp.create_asymmetric_load(net, bus=b5, p_a_mw=0, p_b_mw=0.00, p_c_mw=0, name='DRH_Load')"
   ]
  },
  {
   "cell_type": "code",
   "execution_count": 70,
   "metadata": {
    "scrolled": true
   },
   "outputs": [
    {
     "name": "stderr",
     "output_type": "stream",
     "text": [
      "numba cannot be imported and numba functions are disabled.\n",
      "Probably the execution is slow.\n",
      "Please install numba to gain a massive speedup.\n",
      "(or if you prefer slow execution, set the flag numba=False to avoid this warning!)\n",
      "\n",
      "/home/brendan/jupyter_env/lib/python3.7/site-packages/pandapower/pypower/makeYbus.py:80: RuntimeWarning: divide by zero encountered in true_divide\n",
      "  Ysf = stat / (branch[:, BR_R] + 1j * branch[:, BR_X])  ## series admittance\n",
      "/home/brendan/jupyter_env/lib/python3.7/site-packages/pandapower/pypower/makeYbus.py:80: RuntimeWarning: invalid value encountered in true_divide\n",
      "  Ysf = stat / (branch[:, BR_R] + 1j * branch[:, BR_X])  ## series admittance\n",
      "/home/brendan/jupyter_env/lib/python3.7/site-packages/pandapower/pypower/makeYbus.py:93: RuntimeWarning: invalid value encountered in true_divide\n",
      "  Yff = (Ysf + 1j * Bc / 2) / (tap * conj(tap))\n",
      "/home/brendan/jupyter_env/lib/python3.7/site-packages/pandapower/pypower/makeYbus.py:94: RuntimeWarning: invalid value encountered in true_divide\n",
      "  Yft = - Ysf / conj(tap)\n",
      "/home/brendan/jupyter_env/lib/python3.7/site-packages/pandapower/pypower/makeYbus.py:95: RuntimeWarning: invalid value encountered in true_divide\n",
      "  Ytf = - Yst / tap\n",
      "/home/brendan/jupyter_env/lib/python3.7/site-packages/scipy/sparse/linalg/dsolve/linsolve.py:206: MatrixRankWarning: Matrix is exactly singular\n",
      "  warn(\"Matrix is exactly singular\", MatrixRankWarning)\n",
      "/home/brendan/jupyter_env/lib/python3.7/site-packages/pandapower/pf/runpp_3ph.py:510: RuntimeWarning: invalid value encountered in true_divide\n",
      "  i_abc_it_wye = (np.divide(s_abc_pu, v_abc_it)).conjugate()\n",
      "/home/brendan/jupyter_env/lib/python3.7/site-packages/pandapower/pf/runpp_3ph.py:512: RuntimeWarning: invalid value encountered in true_divide\n",
      "  (v_del_xfmn, v_abc_it))).conjugate())\n",
      "/home/brendan/jupyter_env/lib/python3.7/site-packages/pandapower/pypower/dSbus_dV.py:34: RuntimeWarning: invalid value encountered in true_divide\n",
      "  diagVnorm = sparse((V / abs(V), (ib, ib)))\n",
      "/home/brendan/jupyter_env/lib/python3.7/site-packages/pandapower/results_bus.py:54: RuntimeWarning: invalid value encountered in true_divide\n",
      "  net[\"res_bus_3ph\"][\"unbalance_percent\"] = np.abs(V012_pu[2, :]/V012_pu[1, :])*100\n",
      "/home/brendan/jupyter_env/lib/python3.7/site-packages/pandapower/auxiliary.py:835: RuntimeWarning: invalid value encountered in true_divide\n",
      "  return np.conjugate(np.divide(S, V, out=np.zeros_like(S), where=V != 0))  # Return zero if div by zero\n"
     ]
    },
    {
     "data": {
      "text/html": [
       "<div>\n",
       "<style scoped>\n",
       "    .dataframe tbody tr th:only-of-type {\n",
       "        vertical-align: middle;\n",
       "    }\n",
       "\n",
       "    .dataframe tbody tr th {\n",
       "        vertical-align: top;\n",
       "    }\n",
       "\n",
       "    .dataframe thead th {\n",
       "        text-align: right;\n",
       "    }\n",
       "</style>\n",
       "<table border=\"1\" class=\"dataframe\">\n",
       "  <thead>\n",
       "    <tr style=\"text-align: right;\">\n",
       "      <th></th>\n",
       "      <th>vm_a_pu</th>\n",
       "      <th>va_a_degree</th>\n",
       "      <th>vm_b_pu</th>\n",
       "      <th>va_b_degree</th>\n",
       "      <th>vm_c_pu</th>\n",
       "      <th>va_c_degree</th>\n",
       "      <th>p_a_mw</th>\n",
       "      <th>q_a_mvar</th>\n",
       "      <th>p_b_mw</th>\n",
       "      <th>q_b_mvar</th>\n",
       "      <th>p_c_mw</th>\n",
       "      <th>q_c_mvar</th>\n",
       "      <th>unbalance_percent</th>\n",
       "    </tr>\n",
       "  </thead>\n",
       "  <tbody>\n",
       "    <tr>\n",
       "      <th>0</th>\n",
       "      <td>NaN</td>\n",
       "      <td>NaN</td>\n",
       "      <td>NaN</td>\n",
       "      <td>NaN</td>\n",
       "      <td>NaN</td>\n",
       "      <td>NaN</td>\n",
       "      <td>NaN</td>\n",
       "      <td>NaN</td>\n",
       "      <td>NaN</td>\n",
       "      <td>NaN</td>\n",
       "      <td>NaN</td>\n",
       "      <td>NaN</td>\n",
       "      <td>NaN</td>\n",
       "    </tr>\n",
       "    <tr>\n",
       "      <th>1</th>\n",
       "      <td>NaN</td>\n",
       "      <td>NaN</td>\n",
       "      <td>NaN</td>\n",
       "      <td>NaN</td>\n",
       "      <td>NaN</td>\n",
       "      <td>NaN</td>\n",
       "      <td>0.001472</td>\n",
       "      <td>-0.004227</td>\n",
       "      <td>0.0</td>\n",
       "      <td>0.0</td>\n",
       "      <td>0.0</td>\n",
       "      <td>0.0</td>\n",
       "      <td>NaN</td>\n",
       "    </tr>\n",
       "    <tr>\n",
       "      <th>2</th>\n",
       "      <td>NaN</td>\n",
       "      <td>NaN</td>\n",
       "      <td>NaN</td>\n",
       "      <td>NaN</td>\n",
       "      <td>NaN</td>\n",
       "      <td>NaN</td>\n",
       "      <td>0.000000</td>\n",
       "      <td>0.000000</td>\n",
       "      <td>0.0</td>\n",
       "      <td>0.0</td>\n",
       "      <td>0.0</td>\n",
       "      <td>0.0</td>\n",
       "      <td>NaN</td>\n",
       "    </tr>\n",
       "    <tr>\n",
       "      <th>3</th>\n",
       "      <td>NaN</td>\n",
       "      <td>NaN</td>\n",
       "      <td>NaN</td>\n",
       "      <td>NaN</td>\n",
       "      <td>NaN</td>\n",
       "      <td>NaN</td>\n",
       "      <td>-0.005000</td>\n",
       "      <td>-0.000300</td>\n",
       "      <td>0.0</td>\n",
       "      <td>0.0</td>\n",
       "      <td>0.0</td>\n",
       "      <td>0.0</td>\n",
       "      <td>NaN</td>\n",
       "    </tr>\n",
       "    <tr>\n",
       "      <th>4</th>\n",
       "      <td>NaN</td>\n",
       "      <td>NaN</td>\n",
       "      <td>NaN</td>\n",
       "      <td>NaN</td>\n",
       "      <td>NaN</td>\n",
       "      <td>NaN</td>\n",
       "      <td>0.000000</td>\n",
       "      <td>0.000000</td>\n",
       "      <td>0.0</td>\n",
       "      <td>0.0</td>\n",
       "      <td>0.0</td>\n",
       "      <td>0.0</td>\n",
       "      <td>NaN</td>\n",
       "    </tr>\n",
       "  </tbody>\n",
       "</table>\n",
       "</div>"
      ],
      "text/plain": [
       "   vm_a_pu  va_a_degree  vm_b_pu  va_b_degree  vm_c_pu  va_c_degree    p_a_mw  \\\n",
       "0      NaN          NaN      NaN          NaN      NaN          NaN       NaN   \n",
       "1      NaN          NaN      NaN          NaN      NaN          NaN  0.001472   \n",
       "2      NaN          NaN      NaN          NaN      NaN          NaN  0.000000   \n",
       "3      NaN          NaN      NaN          NaN      NaN          NaN -0.005000   \n",
       "4      NaN          NaN      NaN          NaN      NaN          NaN  0.000000   \n",
       "\n",
       "   q_a_mvar  p_b_mw  q_b_mvar  p_c_mw  q_c_mvar  unbalance_percent  \n",
       "0       NaN     NaN       NaN     NaN       NaN                NaN  \n",
       "1 -0.004227     0.0       0.0     0.0       0.0                NaN  \n",
       "2  0.000000     0.0       0.0     0.0       0.0                NaN  \n",
       "3 -0.000300     0.0       0.0     0.0       0.0                NaN  \n",
       "4  0.000000     0.0       0.0     0.0       0.0                NaN  "
      ]
     },
     "execution_count": 70,
     "metadata": {},
     "output_type": "execute_result"
    }
   ],
   "source": [
    "pp.add_zero_impedance_parameters(net)\n",
    "pp.runpp_3ph(net)\n",
    "net.res_bus_3ph"
   ]
  },
  {
   "cell_type": "code",
   "execution_count": null,
   "metadata": {},
   "outputs": [],
   "source": []
  },
  {
   "cell_type": "code",
   "execution_count": null,
   "metadata": {},
   "outputs": [],
   "source": []
  },
  {
   "cell_type": "code",
   "execution_count": null,
   "metadata": {},
   "outputs": [],
   "source": []
  },
  {
   "cell_type": "code",
   "execution_count": null,
   "metadata": {},
   "outputs": [],
   "source": []
  },
  {
   "cell_type": "code",
   "execution_count": null,
   "metadata": {},
   "outputs": [],
   "source": []
  },
  {
   "cell_type": "code",
   "execution_count": null,
   "metadata": {},
   "outputs": [],
   "source": []
  },
  {
   "cell_type": "code",
   "execution_count": null,
   "metadata": {},
   "outputs": [],
   "source": []
  },
  {
   "cell_type": "code",
   "execution_count": null,
   "metadata": {},
   "outputs": [],
   "source": []
  },
  {
   "cell_type": "code",
   "execution_count": null,
   "metadata": {},
   "outputs": [],
   "source": []
  }
 ],
 "metadata": {
  "kernelspec": {
   "display_name": "Python 3",
   "language": "python",
   "name": "python3"
  },
  "language_info": {
   "codemirror_mode": {
    "name": "ipython",
    "version": 3
   },
   "file_extension": ".py",
   "mimetype": "text/x-python",
   "name": "python",
   "nbconvert_exporter": "python",
   "pygments_lexer": "ipython3",
   "version": "3.7.5"
  }
 },
 "nbformat": 4,
 "nbformat_minor": 4
}
