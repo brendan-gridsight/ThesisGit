{
 "cells": [
  {
   "cell_type": "markdown",
   "metadata": {},
   "source": [
    "# SBRC Pandapower Power Flow - Unbalanced Network with MPC Simulation Results\n",
    "\n",
    "Notebook for obtaining distribution network sensitivities fro  SBRC microgrid via linear regression"
   ]
  },
  {
   "cell_type": "code",
   "execution_count": 60,
   "metadata": {},
   "outputs": [],
   "source": [
    "import pandas as pd\n",
    "import numpy as np\n",
    "import seaborn as sns\n",
    "import matplotlib.pyplot as plt\n",
    "import datetime\n",
    "from sklearn.model_selection import train_test_split\n",
    "from sklearn.linear_model import LinearRegression\n",
    "from sklearn.metrics import r2_score, mean_squared_error\n",
    "import pandapower as pp"
   ]
  },
  {
   "cell_type": "markdown",
   "metadata": {},
   "source": [
    "### Import SBRC network data"
   ]
  },
  {
   "cell_type": "code",
   "execution_count": 84,
   "metadata": {},
   "outputs": [],
   "source": [
    "eco_drh = pd.read_csv('Results/Ecomode_20min_DRH_3-11-2020_7am_6pm.csv', index_col=0)\n",
    "eco_ifh = pd.read_csv('Results/Ecomode_20min_IFH_3-11-2020_7am_6pm.csv', index_col=0)\n",
    "eco_sb1 = pd.read_csv('Results/Ecomode_20min_SBRC_P1_3-11-2020_7am_6pm.csv', index_col=0)\n",
    "eco_sb2 = pd.read_csv('Results/Ecomode_20min_SBRC_P2_3-11-2020_7am_6pm.csv', index_col=0)\n",
    "eco_sb3 = pd.read_csv('Results/Ecomode_20min_SBRC_P3_3-11-2020_7am_6pm.csv', index_col=0)"
   ]
  },
  {
   "cell_type": "code",
   "execution_count": 85,
   "metadata": {},
   "outputs": [],
   "source": [
    "eco = pd.DataFrame(index=eco_drh.index[0:72])\n",
    "eco['DR_Pa'] = eco_drh['p_im'] + eco_drh['p_ex']\n",
    "eco['IF_Pc'] = eco_ifh['p_im'] + eco_ifh['p_ex']\n",
    "eco['SB_Pa'] = eco_sb1['p_im'] + eco_sb1['p_ex']\n",
    "eco['SB_Pb'] = eco_sb2['p_im'] + eco_sb2['p_ex']\n",
    "eco['SB_Pc'] = eco_sb3['p_im'] + eco_sb3['p_ex']\n",
    "eco.index = pd.to_datetime((eco.index), format='%Y/%m/%d %H:%M:%S')\n",
    "eco = eco.resample('5min').interpolate('linear')"
   ]
  },
  {
   "cell_type": "code",
   "execution_count": 86,
   "metadata": {},
   "outputs": [],
   "source": [
    "vr_drh = pd.read_csv('Results/VRmode_20min_DRH_3-11-2020_7am_6pm.csv', index_col=0)\n",
    "vr_ifh = pd.read_csv('Results/VRmode_20min_IFH_3-11-2020_7am_6pm.csv', index_col=0)\n",
    "vr_sb1 = pd.read_csv('Results/VRmode_20min_SBRC_P1_3-11-2020_7am_6pm.csv', index_col=0)\n",
    "vr_sb2 = pd.read_csv('Results/VRmode_20min_SBRC_P2_3-11-2020_7am_6pm.csv', index_col=0)\n",
    "vr_sb3 = pd.read_csv('Results/VRmode_20min_SBRC_P3_3-11-2020_7am_6pm.csv', index_col=0)"
   ]
  },
  {
   "cell_type": "code",
   "execution_count": 87,
   "metadata": {},
   "outputs": [],
   "source": [
    "vr = pd.DataFrame(index=vr_drh.index[0:72])\n",
    "vr['DR_Pa'] = vr_drh['p_im'] + vr_drh['p_ex']\n",
    "vr['IF_Pc'] = vr_ifh['p_im'] + vr_ifh['p_ex']\n",
    "vr['SB_Pa'] = vr_sb1['p_im'] + vr_sb1['p_ex']\n",
    "vr['SB_Pb'] = vr_sb2['p_im'] + eco_sb2['p_ex']\n",
    "vr['SB_Pc'] = vr_sb3['p_im'] + eco_sb3['p_ex']\n",
    "vr.index = pd.to_datetime((vr.index), format='%Y/%m/%d %H:%M:%S')\n",
    "vr = vr.resample('5min').interpolate('linear')"
   ]
  },
  {
   "cell_type": "code",
   "execution_count": 88,
   "metadata": {},
   "outputs": [],
   "source": [
    "kiosk = pd.read_csv('CSV/Camp East Kiosk - Hioki PW3198 30sec 20201019 to 20201123 with n.CSV')\n",
    "kiosk.index = pd.to_datetime((kiosk['Date']+' '+kiosk['Time']), format='%Y/%m/%d %H:%M:%S')\n",
    "kiosk = kiosk.resample('5min').mean()"
   ]
  },
  {
   "cell_type": "markdown",
   "metadata": {},
   "source": [
    "## Create Network Model"
   ]
  },
  {
   "cell_type": "code",
   "execution_count": 89,
   "metadata": {},
   "outputs": [],
   "source": [
    "def time_series_powerflow(scale, df):\n",
    "    \n",
    "    sim_results = pd.DataFrame(index=df.index, columns=['SB_Va', 'SB_Vb', 'SB_Vc', 'IF_Vc', 'DR_Va'])\n",
    "\n",
    "    for i,idx in enumerate(sim_results.index):\n",
    "\n",
    "        net = pp.create_empty_network(sn_mva=100)\n",
    "\n",
    "        cable_25mm = dict(r_ohm_per_km=0.884,\n",
    "                      x_ohm_per_km=0.0973,\n",
    "                      c_nf_per_km=0.0,\n",
    "                      r0_ohm_per_km=0.884,\n",
    "                      x0_ohm_per_km=0.0973,\n",
    "                      c0_nf_per_km=0.0,\n",
    "                      max_i_ka=0.09,\n",
    "                     )\n",
    "\n",
    "        cable_95mm = dict(r_ohm_per_km=0.193,\n",
    "                          x_ohm_per_km=0.09,\n",
    "                          c_nf_per_km=0.0,\n",
    "                          r0_ohm_per_km=0.772,\n",
    "                          x0_ohm_per_km=0.36,\n",
    "                          c0_nf_per_km=0.0,\n",
    "                          max_i_ka=0.244,\n",
    "                         )\n",
    "\n",
    "        cable_240mm = dict(r_ohm_per_km=0.0754/2,\n",
    "                          x_ohm_per_km=0.0855/2,\n",
    "                          c_nf_per_km=0.0,\n",
    "                          r0_ohm_per_km=0.3016/2,\n",
    "                          x0_ohm_per_km=0.342/2,\n",
    "                          c0_nf_per_km=0.0,\n",
    "                          max_i_ka=0.426,\n",
    "                         )\n",
    "\n",
    "        pp.create_std_type(net, cable_25mm, '25mm')\n",
    "        pp.create_std_type(net, cable_95mm, '95mm')\n",
    "        pp.create_std_type(net, cable_240mm, '240mm')\n",
    "\n",
    "\n",
    "        b1 = pp.create_bus(net, vn_kv=0.4, name='LV-TX', geodata=(-34.399961,150.898769))\n",
    "        b2 = pp.create_bus(net, vn_kv=0.4, name='SBRC',geodata=(-34.400124,150.899592))\n",
    "        b3 = pp.create_bus(net, vn_kv=0.4, name='PILLAR',geodata=(-34.401032,150.897985))\n",
    "        b4 = pp.create_bus(net, vn_kv=0.4, name='IFH',geodata=(-34.400898,150.897876))\n",
    "        b5 = pp.create_bus(net, vn_kv=0.4, name='DRH',geodata=(-34.400762,150.897466))\n",
    "\n",
    "        pp.create_line(net, from_bus=b1, to_bus=b2, length_km=0.1, name=\"Line1\",std_type='240mm') \n",
    "        pp.create_line(net, from_bus=b2, to_bus=b3, length_km=0.3, name=\"Line2\",std_type='95mm') \n",
    "        pp.create_line(net, from_bus=b3, to_bus=b4, length_km=0.05, name=\"Line3\",std_type='25mm') \n",
    "        pp.create_line(net, from_bus=b3, to_bus=b5, length_km=0.08, name=\"Line4\",std_type='25mm')\n",
    "\n",
    "        pp.create_ext_grid(net, vm_pu=kiosk.loc[idx]['AvgUrms1']/230, bus=b1, s_sc_max_mva=10000, rx_max=0.1)\n",
    "        net.ext_grid[\"r0x0_max\"] = 0.1\n",
    "        net.ext_grid[\"x0x_max\"] = 1.0\n",
    "\n",
    "\n",
    "        pp.create_asymmetric_load(net, bus=b2, p_a_mw=(df.loc[idx]['SB_Pa']/1000000), q_a_mvar=(0/1000000), \n",
    "                                               p_b_mw=(df.loc[idx]['SB_Pb']/1000000), q_b_mvar=(0/1000000),\n",
    "                                               p_c_mw=(df.loc[idx]['SB_Pc']/1000000), q_c_mvar=(0/1000000), name=\"SBRC_Load\")\n",
    "        pp.create_asymmetric_load(net, bus=b4, p_c_mw=(df.loc[idx]['IF_Pc']/1000000), q_c_mvar=(0/1000000), name='IFH_Load')\n",
    "        pp.create_asymmetric_load(net, bus=b5, p_a_mw=(df.loc[idx]['DR_Pa']/1000000)*scale, q_a_mvar=(0/1000000), name='DRH_Load')\n",
    "\n",
    "        pp.add_zero_impedance_parameters(net)\n",
    "        pp.runpp_3ph(net, numba=False)\n",
    "\n",
    "        res = net.res_bus_3ph\n",
    "\n",
    "        #print(res)\n",
    "\n",
    "        sim_results.loc[idx,'SB_Va'] = res.loc[1]['vm_a_pu']*230\n",
    "        sim_results.loc[idx,'SB_Vb'] = res.loc[1]['vm_b_pu']*230\n",
    "        sim_results.loc[idx,'SB_Vc'] = res.loc[1]['vm_c_pu']*230\n",
    "        sim_results.loc[idx,'DR_Va'] = res.loc[4]['vm_a_pu']*230\n",
    "        sim_results.loc[idx,'IF_Vc'] = res.loc[3]['vm_c_pu']*230\n",
    "        \n",
    "    return sim_results\n",
    "    "
   ]
  },
  {
   "cell_type": "code",
   "execution_count": 90,
   "metadata": {},
   "outputs": [],
   "source": [
    "def plot_measured_actual(volts_before, volts_after, bus_volts):\n",
    "    fig, ax1 = plt.subplots()\n",
    "    ax1.set_xlabel('Time')\n",
    "    ax1.set_ylabel('kW')\n",
    "    #ax1.set_ylim(-7,11)\n",
    "#ax1.plot(volts_df.index, mg.loc[sim_date][bus_volts], linewidth=1, label='MEASURED')\n",
    "#     ax1.plot(volts_df.index, mg.loc[sim_date]['TX_Va'], linewidth=1, label='MEASURED')\n",
    "#     ax1.plot(volts_df.index, mg.loc[sim_date]['SB_Va'], linewidth=1, label='MEASURED')\n",
    "    ax1.plot(volts_before.index, volts_before[bus_volts], color='blue', linewidth=1, label='Before')\n",
    "    ax1.plot(volts_after.index, volts_after[bus_volts], color='Red', linewidth=1, label='Before')\n",
    "    ax1.legend(loc=\"upper left\")\n",
    "    ax1.grid()\n",
    "    fig.set_figheight(6)\n",
    "    fig.set_figwidth(9)\n",
    "    plt.show()"
   ]
  },
  {
   "cell_type": "code",
   "execution_count": 91,
   "metadata": {
    "scrolled": true
   },
   "outputs": [],
   "source": [
    "volts_before = time_series_powerflow(scale=1, df=eco)"
   ]
  },
  {
   "cell_type": "code",
   "execution_count": 92,
   "metadata": {},
   "outputs": [],
   "source": [
    "volts_after = time_series_powerflow(scale=1, df=vr)"
   ]
  },
  {
   "cell_type": "code",
   "execution_count": 94,
   "metadata": {
    "scrolled": true
   },
   "outputs": [
    {
     "data": {
      "image/png": "[encoded data removed]",
      "text/plain": [
       "<Figure size 648x432 with 1 Axes>"
      ]
     },
     "metadata": {
      "needs_background": "light"
     },
     "output_type": "display_data"
    }
   ],
   "source": [
    "plot_measured_actual(volts_before, volts_after, 'IF_Vc')"
   ]
  },
  {
   "cell_type": "code",
   "execution_count": null,
   "metadata": {},
   "outputs": [],
   "source": [
    "#volts_after = time_series_powerflow(scale=1.02)"
   ]
  },
  {
   "cell_type": "code",
   "execution_count": null,
   "metadata": {},
   "outputs": [],
   "source": [
    "delta_v = volts_before - volts_after"
   ]
  },
  {
   "cell_type": "code",
   "execution_count": null,
   "metadata": {},
   "outputs": [],
   "source": [
    "delta_p_dr = mg.loc[sim_date]['DR_Pa'] - (mg.loc[sim_date]['DR_Pa']*1.02)"
   ]
  },
  {
   "cell_type": "code",
   "execution_count": null,
   "metadata": {
    "scrolled": false
   },
   "outputs": [],
   "source": [
    "plot_measured_actual(volts_before, bus_volts='DR_Va')"
   ]
  },
  {
   "cell_type": "markdown",
   "metadata": {},
   "source": [
    "# Calculate Sensitivities with Fixed Network state"
   ]
  },
  {
   "cell_type": "markdown",
   "metadata": {},
   "source": [
    "The following function determines the network state with only "
   ]
  },
  {
   "cell_type": "code",
   "execution_count": null,
   "metadata": {},
   "outputs": [],
   "source": [
    "def sensitivity_calc(scale):\n",
    "    \n",
    "    dr_fake_load = np.linspace(-20000,20000, num=288)\n",
    "    \n",
    "    sim_results = pd.DataFrame(index=mg.loc[sim_date].index, columns=['SB_Va', 'SB_Vb', 'SB_Vc', 'IF_Vc', 'DR_Va'])\n",
    "\n",
    "    for i,idx in enumerate(sim_results.index):\n",
    "\n",
    "        net = pp.create_empty_network(sn_mva=100)\n",
    "\n",
    "        cable_25mm = dict(r_ohm_per_km=0.884,\n",
    "                      x_ohm_per_km=0.0973,\n",
    "                      c_nf_per_km=0.0,\n",
    "                      r0_ohm_per_km=0.884,\n",
    "                      x0_ohm_per_km=0.0973,\n",
    "                      c0_nf_per_km=0.0,\n",
    "                      max_i_ka=0.09,\n",
    "                     )\n",
    "\n",
    "        cable_95mm = dict(r_ohm_per_km=0.193,\n",
    "                          x_ohm_per_km=0.09,\n",
    "                          c_nf_per_km=0.0,\n",
    "                          r0_ohm_per_km=0.772,\n",
    "                          x0_ohm_per_km=0.36,\n",
    "                          c0_nf_per_km=0.0,\n",
    "                          max_i_ka=0.244,\n",
    "                         )\n",
    "\n",
    "        cable_240mm = dict(r_ohm_per_km=0.0754/2,\n",
    "                          x_ohm_per_km=0.0855/2,\n",
    "                          c_nf_per_km=0.0,\n",
    "                          r0_ohm_per_km=0.3016/2,\n",
    "                          x0_ohm_per_km=0.342/2,\n",
    "                          c0_nf_per_km=0.0,\n",
    "                          max_i_ka=0.426,\n",
    "                         )\n",
    "\n",
    "        pp.create_std_type(net, cable_25mm, '25mm')\n",
    "        pp.create_std_type(net, cable_95mm, '95mm')\n",
    "        pp.create_std_type(net, cable_240mm, '240mm')\n",
    "\n",
    "\n",
    "        b1 = pp.create_bus(net, vn_kv=0.4, name='LV-TX', geodata=(-34.399961,150.898769))\n",
    "        b2 = pp.create_bus(net, vn_kv=0.4, name='SBRC',geodata=(-34.400124,150.899592))\n",
    "        b3 = pp.create_bus(net, vn_kv=0.4, name='PILLAR',geodata=(-34.401032,150.897985))\n",
    "        b4 = pp.create_bus(net, vn_kv=0.4, name='IFH',geodata=(-34.400898,150.897876))\n",
    "        b5 = pp.create_bus(net, vn_kv=0.4, name='DRH',geodata=(-34.400762,150.897466))\n",
    "\n",
    "        pp.create_line(net, from_bus=b1, to_bus=b2, length_km=0.1, name=\"Line1\",std_type='240mm') \n",
    "        pp.create_line(net, from_bus=b2, to_bus=b3, length_km=0.3, name=\"Line2\",std_type='95mm') \n",
    "        pp.create_line(net, from_bus=b3, to_bus=b4, length_km=0.05, name=\"Line3\",std_type='25mm') \n",
    "        pp.create_line(net, from_bus=b3, to_bus=b5, length_km=0.08, name=\"Line4\",std_type='25mm')\n",
    "\n",
    "        pp.create_ext_grid(net, vm_pu=1.08, bus=b1, s_sc_max_mva=10000, rx_max=0.1)\n",
    "        net.ext_grid[\"r0x0_max\"] = 0.1\n",
    "        net.ext_grid[\"x0x_max\"] = 1.0\n",
    "\n",
    "\n",
    "        pp.create_asymmetric_load(net, bus=b2, p_a_mw=(10000/1000000), q_a_mvar=(0/1000000), \n",
    "                                               p_b_mw=(10000/1000000), q_b_mvar=(0/1000000),\n",
    "                                               p_c_mw=(dr_fake_load[i]/1000000)*scale, q_c_mvar=(0/1000000), name=\"SBRC_Load\")\n",
    "        pp.create_asymmetric_load(net, bus=b4, p_c_mw=(1000/1000000), q_c_mvar=(0/1000000), name='IFH_Load')\n",
    "        pp.create_asymmetric_load(net, bus=b5, p_a_mw=(1000/1000000), q_a_mvar=(0/1000000), name='DRH_Load')\n",
    "\n",
    "        pp.add_zero_impedance_parameters(net)\n",
    "        pp.runpp_3ph(net, numba=False)\n",
    "\n",
    "        res = net.res_bus_3ph\n",
    "\n",
    "        #print(res)\n",
    "\n",
    "        sim_results.loc[idx,'SB_Va'] = res.loc[1]['vm_a_pu']*230\n",
    "        sim_results.loc[idx,'SB_Vb'] = res.loc[1]['vm_b_pu']*230\n",
    "        sim_results.loc[idx,'SB_Vc'] = res.loc[1]['vm_c_pu']*230\n",
    "        sim_results.loc[idx,'DR_Va'] = res.loc[4]['vm_a_pu']*230\n",
    "        sim_results.loc[idx,'IF_Vc'] = res.loc[3]['vm_c_pu']*230\n",
    "        \n",
    "    return sim_results\n",
    "    "
   ]
  },
  {
   "cell_type": "code",
   "execution_count": null,
   "metadata": {},
   "outputs": [],
   "source": [
    "before = sensitivity_calc(scale=1)"
   ]
  },
  {
   "cell_type": "code",
   "execution_count": null,
   "metadata": {},
   "outputs": [],
   "source": [
    "after = sensitivity_calc(scale=1.02)"
   ]
  },
  {
   "cell_type": "code",
   "execution_count": null,
   "metadata": {},
   "outputs": [],
   "source": [
    "delta_v = before - after"
   ]
  },
  {
   "cell_type": "code",
   "execution_count": null,
   "metadata": {},
   "outputs": [],
   "source": [
    "delta_p = np.linspace(-20000,20000, num=288) - np.linspace(-20000,20000, num=288)*1.02"
   ]
  },
  {
   "cell_type": "code",
   "execution_count": null,
   "metadata": {},
   "outputs": [],
   "source": [
    "pd.Series(delta_v['DR_Va']/delta_p).plot()"
   ]
  },
  {
   "cell_type": "code",
   "execution_count": null,
   "metadata": {},
   "outputs": [],
   "source": []
  },
  {
   "cell_type": "code",
   "execution_count": null,
   "metadata": {},
   "outputs": [],
   "source": []
  }
 ],
 "metadata": {
  "kernelspec": {
   "display_name": "Python 3",
   "language": "python",
   "name": "python3"
  },
  "language_info": {
   "codemirror_mode": {
    "name": "ipython",
    "version": 3
   },
   "file_extension": ".py",
   "mimetype": "text/x-python",
   "name": "python",
   "nbconvert_exporter": "python",
   "pygments_lexer": "ipython3",
   "version": "3.7.5"
  }
 },
 "nbformat": 4,
 "nbformat_minor": 4
}
