{
 "cells": [
  {
   "cell_type": "markdown",
   "metadata": {},
   "source": [
    "# SBRC Pandapower Power Flow - Unbalanced Network\n",
    "\n",
    "Notebook for obtaining distribution network sensitivities fro  SBRC microgrid via linear regression"
   ]
  },
  {
   "cell_type": "code",
   "execution_count": 11,
   "metadata": {},
   "outputs": [],
   "source": [
    "import pandas as pd\n",
    "import numpy as np\n",
    "import seaborn as sns\n",
    "import matplotlib.pyplot as plt\n",
    "import datetime\n",
    "from sklearn.model_selection import train_test_split\n",
    "from sklearn.linear_model import LinearRegression\n",
    "from sklearn.metrics import r2_score, mean_squared_error\n",
    "import pandapower as pp"
   ]
  },
  {
   "cell_type": "markdown",
   "metadata": {},
   "source": [
    "### Import SBRC network data"
   ]
  },
  {
   "cell_type": "code",
   "execution_count": 12,
   "metadata": {},
   "outputs": [],
   "source": [
    "sbrc_1 = pd.read_csv('CSV/SBRC Incomer - Hioki PW3198 30sec 20200803 to 20200817.CSV')\n",
    "sbrc_1.index = pd.to_datetime((sbrc_1['Date']+' '+sbrc_1['Time']), format='%Y/%m/%d %H:%M:%S')"
   ]
  },
  {
   "cell_type": "code",
   "execution_count": 13,
   "metadata": {},
   "outputs": [],
   "source": [
    "sbrc_2 = pd.read_csv('CSV/SBRC Incomer - Hioki PW3198 30sec 20200826 to 20200930.CSV')\n",
    "sbrc_2.index = pd.to_datetime((sbrc_2['Date']+' '+sbrc_2['Time']), format='%Y/%m/%d %H:%M:%S')"
   ]
  },
  {
   "cell_type": "code",
   "execution_count": 14,
   "metadata": {},
   "outputs": [],
   "source": [
    "sbrc_3 = pd.read_csv('CSV/SBRC Incomer - Hioki PW3198 30sec 20201020 to 20201124.CSV')\n",
    "sbrc_3.index = pd.to_datetime((sbrc_3['Date']+' '+sbrc_3['Time']), format='%Y/%m/%d %H:%M:%S')"
   ]
  },
  {
   "cell_type": "code",
   "execution_count": 15,
   "metadata": {},
   "outputs": [],
   "source": [
    "sbrc = pd.concat([sbrc_1, sbrc_2, sbrc_3])"
   ]
  },
  {
   "cell_type": "markdown",
   "metadata": {},
   "source": [
    "### Import IFH Data"
   ]
  },
  {
   "cell_type": "code",
   "execution_count": 16,
   "metadata": {},
   "outputs": [],
   "source": [
    "ifh_1 = pd.read_csv('CSV/IFH SWBD - Hioki PW3198 30sec 20200803 to 20200824.CSV')\n",
    "ifh_2 = pd.read_csv('CSV/IFH SWBD - Hioki PW3198 30sec 20200824 to 20200910.CSV')\n",
    "ifh_3 = pd.read_csv('CSV/IFH SWBD - Hioki PW3198 30sec 20200910 to 20201015.CSV')\n",
    "ifh_4 = pd.read_csv('CSV/IFH SWBD - Hioki PW3198 30sec 20201020 to 20201124.CSV')"
   ]
  },
  {
   "cell_type": "code",
   "execution_count": 17,
   "metadata": {},
   "outputs": [],
   "source": [
    "ifh = pd.concat([ifh_1, ifh_2, ifh_3, ifh_4])"
   ]
  },
  {
   "cell_type": "code",
   "execution_count": 18,
   "metadata": {},
   "outputs": [],
   "source": [
    "ifh.index = pd.to_datetime((ifh['Date']+' '+ifh['Time']), format='%Y/%m/%d %H:%M:%S')"
   ]
  },
  {
   "cell_type": "markdown",
   "metadata": {},
   "source": [
    "### Import DRH Data"
   ]
  },
  {
   "cell_type": "code",
   "execution_count": 19,
   "metadata": {},
   "outputs": [],
   "source": [
    "drh_1 = pd.read_csv('CSV/DRH - Hioki 3360 20200806 to 20200817.CSV', skiprows=16)\n",
    "drh_1.index = pd.to_datetime((drh_1['Date']), format='%Y-%m-%d %H:%M:%S')"
   ]
  },
  {
   "cell_type": "code",
   "execution_count": 20,
   "metadata": {},
   "outputs": [],
   "source": [
    "drh_2 = pd.read_csv('CSV/DRH SWBD - Hioki PW3360 30sec 20200817 to 20201020.CSV', skiprows=16)\n",
    "drh_2.index = pd.to_datetime((drh_2['Date']), format='%Y-%m-%d %H:%M:%S')"
   ]
  },
  {
   "cell_type": "code",
   "execution_count": 21,
   "metadata": {},
   "outputs": [],
   "source": [
    "drh_3 = pd.read_csv('CSV/DRH SWBD - Hioki PW3360 30sec 20202010 to 20201218.CSV', skiprows=16)\n",
    "drh_3.index = pd.to_datetime((drh_3['Date']), format='%d/%m/%Y %H:%M')"
   ]
  },
  {
   "cell_type": "code",
   "execution_count": 22,
   "metadata": {},
   "outputs": [],
   "source": [
    "drh = pd.concat([drh_1, drh_2, drh_3])"
   ]
  },
  {
   "cell_type": "markdown",
   "metadata": {},
   "source": [
    "### Import Kiosk Data"
   ]
  },
  {
   "cell_type": "code",
   "execution_count": 23,
   "metadata": {
    "scrolled": true
   },
   "outputs": [
    {
     "name": "stderr",
     "output_type": "stream",
     "text": [
      "/home/brendan/jupyter_env/lib/python3.7/site-packages/IPython/core/interactiveshell.py:3146: DtypeWarning: Columns (19) have mixed types.Specify dtype option on import or set low_memory=False.\n",
      "  interactivity=interactivity, compiler=compiler, result=result)\n"
     ]
    }
   ],
   "source": [
    "kiosk_1 = pd.read_csv('CSV/Camp East Kiosk - Hioki PW3198 30sec 20200803 to 20200817 with n.CSV')\n",
    "kiosk_2 = pd.read_csv('CSV/Camp East Kiosk - Hioki PW3198 30sec 20200817 to 20200921 with n.CSV')\n",
    "kiosk_3 = pd.read_csv('CSV/Camp East Kiosk - Hioki PW3198 30sec 20201019 to 20201123 with n.CSV')"
   ]
  },
  {
   "cell_type": "code",
   "execution_count": 24,
   "metadata": {},
   "outputs": [],
   "source": [
    "kiosk = pd.concat([kiosk_1, kiosk_2, kiosk_3])\n",
    "kiosk.index = pd.to_datetime((kiosk['Date']+' '+kiosk['Time']), format='%Y/%m/%d %H:%M:%S')"
   ]
  },
  {
   "cell_type": "markdown",
   "metadata": {},
   "source": [
    "## Create Combined DF"
   ]
  },
  {
   "cell_type": "code",
   "execution_count": 25,
   "metadata": {},
   "outputs": [],
   "source": [
    "mg = pd.DataFrame(index=drh.index)"
   ]
  },
  {
   "cell_type": "code",
   "execution_count": 26,
   "metadata": {},
   "outputs": [],
   "source": [
    "#Import Kiosk Voltage\n",
    "mg['TX_Va'] = kiosk['AvgUrms1']\n",
    "mg['TX_Vb'] = kiosk['AvgUrms2']\n",
    "mg['TX_Vc'] = kiosk['AvgUrms3']"
   ]
  },
  {
   "cell_type": "code",
   "execution_count": 27,
   "metadata": {},
   "outputs": [],
   "source": [
    "#Import SBRC Data\n",
    "mg['SB_Va'] = sbrc['AvgUrms1']\n",
    "mg['SB_Vb'] = sbrc['AvgUrms2']\n",
    "mg['SB_Vc'] = sbrc['AvgUrms3']\n",
    "\n",
    "mg['SB_Pa'] = sbrc['AvgP1']\n",
    "mg['SB_Pb'] = sbrc['AvgP2']\n",
    "mg['SB_Pc'] = sbrc['AvgP3']\n",
    "\n",
    "mg['SB_Qa'] = sbrc['AvgQ1']\n",
    "mg['SB_Qb'] = sbrc['AvgQ2']\n",
    "mg['SB_Qc'] = sbrc['AvgQ3']"
   ]
  },
  {
   "cell_type": "code",
   "execution_count": 28,
   "metadata": {},
   "outputs": [],
   "source": [
    "#Import IFH Data\n",
    "mg['IF_Vc'] = ifh['AvgUrms3']\n",
    "mg['IF_Pc'] = ifh['AvgP3']\n",
    "mg['IF_Qc'] = ifh['AvgQ3']"
   ]
  },
  {
   "cell_type": "code",
   "execution_count": 29,
   "metadata": {},
   "outputs": [],
   "source": [
    "#Import DRH Data\n",
    "mg['DR_Va'] = drh['U1_Avg[V]']\n",
    "mg['DR_Pa'] = drh['P1_Avg[W]']\n",
    "mg['DR_Qa'] = drh['Q1_Avg[var]']"
   ]
  },
  {
   "cell_type": "code",
   "execution_count": 30,
   "metadata": {},
   "outputs": [],
   "source": [
    "mg = mg.resample('5min').mean()"
   ]
  },
  {
   "cell_type": "markdown",
   "metadata": {},
   "source": [
    "## Create Network Model"
   ]
  },
  {
   "cell_type": "code",
   "execution_count": 31,
   "metadata": {},
   "outputs": [],
   "source": [
    "net = pp.create_empty_network(sn_mva=100)"
   ]
  },
  {
   "cell_type": "code",
   "execution_count": 32,
   "metadata": {},
   "outputs": [],
   "source": [
    "# b1 = pp.create_bus(net, vn_kv=0.4, name='LV-TX', geodata=(-34.399961,150.898769))\n",
    "# b2 = pp.create_bus(net, vn_kv=0.4, name='SBRC',geodata=(-34.400124,150.899592))\n",
    "# b3 = pp.create_bus(net, vn_kv=0.4, name='PILLAR',geodata=(-34.401032,150.897985))\n",
    "# b4 = pp.create_bus(net, vn_kv=0.4, name='IFH',geodata=(-34.400898,150.897876))\n",
    "# b5 = pp.create_bus(net, vn_kv=0.4, name='DRH',geodata=(-34.400762,150.897466))"
   ]
  },
  {
   "cell_type": "code",
   "execution_count": 33,
   "metadata": {},
   "outputs": [],
   "source": [
    "# pp.create_ext_grid(net, vm_a_pu=1.0814,  vm_b_pu=1.0714,  vm_c_pu=1.0714, bus=b1, s_sc_max_mva=10000, rx_max=0.1)\n",
    "# net.ext_grid[\"r0x0_max\"] = 0.1\n",
    "# net.ext_grid[\"x0x_max\"] = 1.0"
   ]
  },
  {
   "cell_type": "code",
   "execution_count": 34,
   "metadata": {},
   "outputs": [],
   "source": [
    "cable_25mm = dict(r_ohm_per_km=0.884,\n",
    "                  x_ohm_per_km=0.0973,\n",
    "                  c_nf_per_km=0.0,\n",
    "                  r0_ohm_per_km=0.884,\n",
    "                  x0_ohm_per_km=0.0973,\n",
    "                  c0_nf_per_km=0.0,\n",
    "                  max_i_ka=0.09,\n",
    "                 )\n",
    "\n",
    "cable_95mm = dict(r_ohm_per_km=0.236,\n",
    "                  x_ohm_per_km=0.0849,\n",
    "                  c_nf_per_km=0.0,\n",
    "                  r0_ohm_per_km=0.944,\n",
    "                  x0_ohm_per_km=0.3396,\n",
    "                  c0_nf_per_km=0.0,\n",
    "                  max_i_ka=0.244,\n",
    "                 )\n",
    "\n",
    "cable_240mm = dict(r_ohm_per_km=0.0948,\n",
    "                  x_ohm_per_km=0.0808,\n",
    "                  c_nf_per_km=0.0,\n",
    "                  r0_ohm_per_km=0.3792,\n",
    "                  x0_ohm_per_km=0.3232,\n",
    "                  c0_nf_per_km=0.0,\n",
    "                  max_i_ka=0.426,\n",
    "                 )"
   ]
  },
  {
   "cell_type": "code",
   "execution_count": 35,
   "metadata": {},
   "outputs": [],
   "source": [
    "pp.create_std_type(net, cable_25mm, '25mm')\n",
    "pp.create_std_type(net, cable_95mm, '95mm')\n",
    "pp.create_std_type(net, cable_240mm, '240mm')"
   ]
  },
  {
   "cell_type": "code",
   "execution_count": 36,
   "metadata": {},
   "outputs": [],
   "source": [
    "# pp.create_line(net, from_bus=b1, to_bus=b2, length_km=0.1, name=\"Line1\",std_type='240mm') \n",
    "# pp.create_line(net, from_bus=b2, to_bus=b3, length_km=0.3, name=\"Line2\",std_type='95mm') \n",
    "# pp.create_line(net, from_bus=b3, to_bus=b4, length_km=0.05, name=\"Line3\",std_type='25mm') \n",
    "# pp.create_line(net, from_bus=b3, to_bus=b5, length_km=0.08, name=\"Line4\",std_type='25mm')"
   ]
  },
  {
   "cell_type": "code",
   "execution_count": 37,
   "metadata": {
    "scrolled": false
   },
   "outputs": [
    {
     "data": {
      "text/plain": [
       "<AxesSubplot:xlabel='Date'>"
      ]
     },
     "execution_count": 37,
     "metadata": {},
     "output_type": "execute_result"
    },
    {
     "data": {
      "image/png": "[encoded data removed]",
      "text/plain": [
       "<Figure size 432x288 with 1 Axes>"
      ]
     },
     "metadata": {
      "needs_background": "light"
     },
     "output_type": "display_data"
    }
   ],
   "source": [
    "sim_date = '2020-10-21'\n",
    "mg.loc[sim_date]['SB_Pa'].plot()"
   ]
  },
  {
   "cell_type": "code",
   "execution_count": 38,
   "metadata": {},
   "outputs": [],
   "source": [
    "# pp.create_asymmetric_load(net, bus=b2,  p_a_mw=(1472/1000000), q_a_mvar=(-4227/1000000), p_b_mw=0, p_c_mw=0, name=\"SBRC_Load\")\n",
    "# pp.create_asymmetric_load(net, bus=b4, p_a_mw=(-5000/1000000), q_a_mvar=(-300/1000000), p_b_mw=0, p_c_mw=0, name='IFH_Load')\n",
    "# pp.create_asymmetric_load(net, bus=b5, p_a_mw=0, p_b_mw=0.00, p_c_mw=0, name='DRH_Load')"
   ]
  },
  {
   "cell_type": "code",
   "execution_count": 39,
   "metadata": {},
   "outputs": [],
   "source": [
    "# pp.add_zero_impedance_parameters(net)\n",
    "# pp.runpp_3ph(net)\n",
    "# net.res_bus_3ph"
   ]
  },
  {
   "cell_type": "code",
   "execution_count": 40,
   "metadata": {},
   "outputs": [],
   "source": [
    "def time_series_powerflow(scale):\n",
    "    \n",
    "    sim_results = pd.DataFrame(index=mg.loc[sim_date].index, columns=['SB_Va', 'SB_Vb', 'SB_Vc', 'IF_Vc', 'DR_Va'])\n",
    "\n",
    "    for i,idx in enumerate(sim_results.index):\n",
    "\n",
    "        net = pp.create_empty_network(sn_mva=100)\n",
    "\n",
    "        cable_25mm = dict(r_ohm_per_km=0.884,\n",
    "                      x_ohm_per_km=0.0973,\n",
    "                      c_nf_per_km=0.0,\n",
    "                      r0_ohm_per_km=0.884,\n",
    "                      x0_ohm_per_km=0.0973,\n",
    "                      c0_nf_per_km=0.0,\n",
    "                      max_i_ka=0.09,\n",
    "                     )\n",
    "\n",
    "        cable_95mm = dict(r_ohm_per_km=0.193,\n",
    "                          x_ohm_per_km=0.09,\n",
    "                          c_nf_per_km=0.0,\n",
    "                          r0_ohm_per_km=0.772,\n",
    "                          x0_ohm_per_km=0.36,\n",
    "                          c0_nf_per_km=0.0,\n",
    "                          max_i_ka=0.244,\n",
    "                         )\n",
    "\n",
    "        cable_240mm = dict(r_ohm_per_km=0.0754/2,\n",
    "                          x_ohm_per_km=0.0855/2,\n",
    "                          c_nf_per_km=0.0,\n",
    "                          r0_ohm_per_km=0.3016/2,\n",
    "                          x0_ohm_per_km=0.342/2,\n",
    "                          c0_nf_per_km=0.0,\n",
    "                          max_i_ka=0.426,\n",
    "                         )\n",
    "\n",
    "        pp.create_std_type(net, cable_25mm, '25mm')\n",
    "        pp.create_std_type(net, cable_95mm, '95mm')\n",
    "        pp.create_std_type(net, cable_240mm, '240mm')\n",
    "\n",
    "\n",
    "        b1 = pp.create_bus(net, vn_kv=0.4, name='LV-TX', geodata=(-34.399961,150.898769))\n",
    "        b2 = pp.create_bus(net, vn_kv=0.4, name='SBRC',geodata=(-34.400124,150.899592))\n",
    "        b3 = pp.create_bus(net, vn_kv=0.4, name='PILLAR',geodata=(-34.401032,150.897985))\n",
    "        b4 = pp.create_bus(net, vn_kv=0.4, name='IFH',geodata=(-34.400898,150.897876))\n",
    "        b5 = pp.create_bus(net, vn_kv=0.4, name='DRH',geodata=(-34.400762,150.897466))\n",
    "\n",
    "        pp.create_line(net, from_bus=b1, to_bus=b2, length_km=0.1, name=\"Line1\",std_type='240mm') \n",
    "        pp.create_line(net, from_bus=b2, to_bus=b3, length_km=0.3, name=\"Line2\",std_type='95mm') \n",
    "        pp.create_line(net, from_bus=b3, to_bus=b4, length_km=0.05, name=\"Line3\",std_type='25mm') \n",
    "        pp.create_line(net, from_bus=b3, to_bus=b5, length_km=0.08, name=\"Line4\",std_type='25mm')\n",
    "\n",
    "        pp.create_ext_grid(net, vm_pu=mg.loc[idx]['SB_Va']/230, bus=b1, s_sc_max_mva=10000, rx_max=0.1)\n",
    "        net.ext_grid[\"r0x0_max\"] = 0.1\n",
    "        net.ext_grid[\"x0x_max\"] = 1.0\n",
    "\n",
    "\n",
    "        pp.create_asymmetric_load(net, bus=b2, p_a_mw=(mg.loc[idx]['SB_Pa']/1000000), q_a_mvar=(mg.loc[idx]['SB_Qa']/1000000), \n",
    "                                               p_b_mw=(mg.loc[idx]['SB_Pb']/1000000), q_b_mvar=(mg.loc[idx]['SB_Qb']/1000000),\n",
    "                                               p_c_mw=(mg.loc[idx]['SB_Pc']/1000000), q_c_mvar=(mg.loc[idx]['SB_Qc']/1000000), name=\"SBRC_Load\")\n",
    "        pp.create_asymmetric_load(net, bus=b4, p_c_mw=(mg.loc[idx]['IF_Pc']/1000000), q_c_mvar=(mg.loc[idx]['IF_Qc']/1000000), name='IFH_Load')\n",
    "        pp.create_asymmetric_load(net, bus=b5, p_a_mw=(mg.loc[idx]['DR_Pa']/1000000)*scale, q_a_mvar=(mg.loc[idx]['DR_Qa']/1000000), name='DRH_Load')\n",
    "\n",
    "        pp.add_zero_impedance_parameters(net)\n",
    "        pp.runpp_3ph(net, numba=False)\n",
    "\n",
    "        res = net.res_bus_3ph\n",
    "\n",
    "        #print(res)\n",
    "\n",
    "        sim_results.loc[idx,'SB_Va'] = res.loc[1]['vm_a_pu']*230\n",
    "        sim_results.loc[idx,'SB_Vb'] = res.loc[1]['vm_b_pu']*230\n",
    "        sim_results.loc[idx,'SB_Vc'] = res.loc[1]['vm_c_pu']*230\n",
    "        sim_results.loc[idx,'DR_Va'] = res.loc[4]['vm_a_pu']*230\n",
    "        sim_results.loc[idx,'IF_Vc'] = res.loc[3]['vm_c_pu']*230\n",
    "        \n",
    "    return sim_results\n",
    "    "
   ]
  },
  {
   "cell_type": "code",
   "execution_count": 41,
   "metadata": {},
   "outputs": [],
   "source": [
    "def plot_measured_actual(volts_df, bus_volts):\n",
    "    fig, ax1 = plt.subplots()\n",
    "    ax1.set_xlabel('Time')\n",
    "    ax1.set_ylabel('kW')\n",
    "    #ax1.set_ylim(-7,11)\n",
    "    ax1.plot(volts_df.index, mg.loc[sim_date][bus_volts], linewidth=1, label='MEASURED')\n",
    "#     ax1.plot(volts_df.index, mg.loc[sim_date]['TX_Va'], linewidth=1, label='MEASURED')\n",
    "#     ax1.plot(volts_df.index, mg.loc[sim_date]['SB_Va'], linewidth=1, label='MEASURED')\n",
    "    ax1.plot(volts_df.index, volts_df[bus_volts], color='blue', linewidth=1, label='GRID')\n",
    "    ax1.legend(loc=\"upper left\")\n",
    "    ax1.grid()\n",
    "    fig.set_figheight(6)\n",
    "    fig.set_figwidth(9)\n",
    "    plt.show()"
   ]
  },
  {
   "cell_type": "code",
   "execution_count": 42,
   "metadata": {
    "scrolled": true
   },
   "outputs": [],
   "source": [
    "volts_before = time_series_powerflow(scale=1)"
   ]
  },
  {
   "cell_type": "code",
   "execution_count": 43,
   "metadata": {},
   "outputs": [],
   "source": [
    "volts_after = time_series_powerflow(scale=1.02)"
   ]
  },
  {
   "cell_type": "code",
   "execution_count": 44,
   "metadata": {},
   "outputs": [],
   "source": [
    "delta_v = volts_before - volts_after"
   ]
  },
  {
   "cell_type": "code",
   "execution_count": 45,
   "metadata": {},
   "outputs": [],
   "source": [
    "delta_p_dr = mg.loc[sim_date]['DR_Pa'] - (mg.loc[sim_date]['DR_Pa']*1.02)"
   ]
  },
  {
   "cell_type": "code",
   "execution_count": 46,
   "metadata": {},
   "outputs": [
    {
     "data": {
      "text/plain": [
       "<AxesSubplot:xlabel='Date'>"
      ]
     },
     "execution_count": 46,
     "metadata": {},
     "output_type": "execute_result"
    },
    {
     "data": {
      "image/png": "[encoded data removed]",
      "text/plain": [
       "<Figure size 432x288 with 1 Axes>"
      ]
     },
     "metadata": {
      "needs_background": "light"
     },
     "output_type": "display_data"
    }
   ],
   "source": [
    "delta_p_dr.plot()"
   ]
  },
  {
   "cell_type": "code",
   "execution_count": 47,
   "metadata": {},
   "outputs": [
    {
     "data": {
      "text/plain": [
       "-2.994201147261372e-05"
      ]
     },
     "execution_count": 47,
     "metadata": {},
     "output_type": "execute_result"
    }
   ],
   "source": [
    "(delta_v['SB_Va']/delta_p_dr).mean()"
   ]
  },
  {
   "cell_type": "code",
   "execution_count": 48,
   "metadata": {
    "scrolled": false
   },
   "outputs": [
    {
     "data": {
      "text/plain": [
       "<AxesSubplot:xlabel='Date'>"
      ]
     },
     "execution_count": 48,
     "metadata": {},
     "output_type": "execute_result"
    },
    {
     "data": {
      "image/png": "[encoded data removed]",
      "text/plain": [
       "<Figure size 432x288 with 1 Axes>"
      ]
     },
     "metadata": {
      "needs_background": "light"
     },
     "output_type": "display_data"
    }
   ],
   "source": [
    "pd.Series(delta_v['DR_Va']/delta_p_dr).plot()"
   ]
  },
  {
   "cell_type": "code",
   "execution_count": 49,
   "metadata": {
    "scrolled": false
   },
   "outputs": [
    {
     "data": {
      "image/png": "[encoded data removed]",
      "text/plain": [
       "<Figure size 648x432 with 1 Axes>"
      ]
     },
     "metadata": {
      "needs_background": "light"
     },
     "output_type": "display_data"
    }
   ],
   "source": [
    "plot_measured_actual(volts_before, bus_volts='DR_Va')"
   ]
  },
  {
   "cell_type": "markdown",
   "metadata": {},
   "source": [
    "# Calculate Sensitivities with Fixed Network state"
   ]
  },
  {
   "cell_type": "markdown",
   "metadata": {},
   "source": [
    "The following function determines the network state with only "
   ]
  },
  {
   "cell_type": "code",
   "execution_count": 95,
   "metadata": {},
   "outputs": [],
   "source": [
    "def sensitivity_calc(scale):\n",
    "    \n",
    "    dr_fake_load = np.linspace(-20000,20000, num=288)\n",
    "    \n",
    "    sim_results = pd.DataFrame(index=mg.loc[sim_date].index, columns=['SB_Va', 'SB_Vb', 'SB_Vc', 'IF_Vc', 'DR_Va'])\n",
    "\n",
    "    for i,idx in enumerate(sim_results.index):\n",
    "\n",
    "        net = pp.create_empty_network(sn_mva=100)\n",
    "\n",
    "        cable_25mm = dict(r_ohm_per_km=0.884,\n",
    "                      x_ohm_per_km=0.0973,\n",
    "                      c_nf_per_km=0.0,\n",
    "                      r0_ohm_per_km=0.884,\n",
    "                      x0_ohm_per_km=0.0973,\n",
    "                      c0_nf_per_km=0.0,\n",
    "                      max_i_ka=0.09,\n",
    "                     )\n",
    "\n",
    "        cable_95mm = dict(r_ohm_per_km=0.193,\n",
    "                          x_ohm_per_km=0.09,\n",
    "                          c_nf_per_km=0.0,\n",
    "                          r0_ohm_per_km=0.772,\n",
    "                          x0_ohm_per_km=0.36,\n",
    "                          c0_nf_per_km=0.0,\n",
    "                          max_i_ka=0.244,\n",
    "                         )\n",
    "\n",
    "        cable_240mm = dict(r_ohm_per_km=0.0754/2,\n",
    "                          x_ohm_per_km=0.0855/2,\n",
    "                          c_nf_per_km=0.0,\n",
    "                          r0_ohm_per_km=0.3016/2,\n",
    "                          x0_ohm_per_km=0.342/2,\n",
    "                          c0_nf_per_km=0.0,\n",
    "                          max_i_ka=0.426,\n",
    "                         )\n",
    "\n",
    "        pp.create_std_type(net, cable_25mm, '25mm')\n",
    "        pp.create_std_type(net, cable_95mm, '95mm')\n",
    "        pp.create_std_type(net, cable_240mm, '240mm')\n",
    "\n",
    "\n",
    "        b1 = pp.create_bus(net, vn_kv=0.4, name='LV-TX', geodata=(-34.399961,150.898769))\n",
    "        b2 = pp.create_bus(net, vn_kv=0.4, name='SBRC',geodata=(-34.400124,150.899592))\n",
    "        b3 = pp.create_bus(net, vn_kv=0.4, name='PILLAR',geodata=(-34.401032,150.897985))\n",
    "        b4 = pp.create_bus(net, vn_kv=0.4, name='IFH',geodata=(-34.400898,150.897876))\n",
    "        b5 = pp.create_bus(net, vn_kv=0.4, name='DRH',geodata=(-34.400762,150.897466))\n",
    "\n",
    "        pp.create_line(net, from_bus=b1, to_bus=b2, length_km=0.1, name=\"Line1\",std_type='240mm') \n",
    "        pp.create_line(net, from_bus=b2, to_bus=b3, length_km=0.3, name=\"Line2\",std_type='95mm') \n",
    "        pp.create_line(net, from_bus=b3, to_bus=b4, length_km=0.05, name=\"Line3\",std_type='25mm') \n",
    "        pp.create_line(net, from_bus=b3, to_bus=b5, length_km=0.08, name=\"Line4\",std_type='25mm')\n",
    "\n",
    "        pp.create_ext_grid(net, vm_pu=1.08, bus=b1, s_sc_max_mva=10000, rx_max=0.1)\n",
    "        net.ext_grid[\"r0x0_max\"] = 0.1\n",
    "        net.ext_grid[\"x0x_max\"] = 1.0\n",
    "\n",
    "\n",
    "        pp.create_asymmetric_load(net, bus=b2, p_a_mw=(10000/1000000), q_a_mvar=(0/1000000), \n",
    "                                               p_b_mw=(10000/1000000), q_b_mvar=(0/1000000),\n",
    "                                               p_c_mw=(dr_fake_load[i]/1000000)*scale, q_c_mvar=(0/1000000), name=\"SBRC_Load\")\n",
    "        pp.create_asymmetric_load(net, bus=b4, p_c_mw=(1000/1000000), q_c_mvar=(0/1000000), name='IFH_Load')\n",
    "        pp.create_asymmetric_load(net, bus=b5, p_a_mw=(1000/1000000), q_a_mvar=(0/1000000), name='DRH_Load')\n",
    "\n",
    "        pp.add_zero_impedance_parameters(net)\n",
    "        pp.runpp_3ph(net, numba=False)\n",
    "\n",
    "        res = net.res_bus_3ph\n",
    "\n",
    "        #print(res)\n",
    "\n",
    "        sim_results.loc[idx,'SB_Va'] = res.loc[1]['vm_a_pu']*230\n",
    "        sim_results.loc[idx,'SB_Vb'] = res.loc[1]['vm_b_pu']*230\n",
    "        sim_results.loc[idx,'SB_Vc'] = res.loc[1]['vm_c_pu']*230\n",
    "        sim_results.loc[idx,'DR_Va'] = res.loc[4]['vm_a_pu']*230\n",
    "        sim_results.loc[idx,'IF_Vc'] = res.loc[3]['vm_c_pu']*230\n",
    "        \n",
    "    return sim_results\n",
    "    "
   ]
  },
  {
   "cell_type": "code",
   "execution_count": 96,
   "metadata": {},
   "outputs": [],
   "source": [
    "before = sensitivity_calc(scale=1)"
   ]
  },
  {
   "cell_type": "code",
   "execution_count": 97,
   "metadata": {},
   "outputs": [],
   "source": [
    "after = sensitivity_calc(scale=1.02)"
   ]
  },
  {
   "cell_type": "code",
   "execution_count": 98,
   "metadata": {},
   "outputs": [],
   "source": [
    "delta_v = before - after"
   ]
  },
  {
   "cell_type": "code",
   "execution_count": 99,
   "metadata": {},
   "outputs": [],
   "source": [
    "delta_p = np.linspace(-20000,20000, num=288) - np.linspace(-20000,20000, num=288)*1.02"
   ]
  },
  {
   "cell_type": "code",
   "execution_count": 100,
   "metadata": {},
   "outputs": [
    {
     "data": {
      "text/plain": [
       "<AxesSubplot:xlabel='Date'>"
      ]
     },
     "execution_count": 100,
     "metadata": {},
     "output_type": "execute_result"
    },
    {
     "data": {
      "image/png": "[encoded data removed]",
      "text/plain": [
       "<Figure size 432x288 with 1 Axes>"
      ]
     },
     "metadata": {
      "needs_background": "light"
     },
     "output_type": "display_data"
    }
   ],
   "source": [
    "pd.Series(delta_v['SB_Vc']/delta_p).plot()"
   ]
  },
  {
   "cell_type": "code",
   "execution_count": null,
   "metadata": {},
   "outputs": [],
   "source": []
  }
 ],
 "metadata": {
  "kernelspec": {
   "display_name": "Python 3",
   "language": "python",
   "name": "python3"
  },
  "language_info": {
   "codemirror_mode": {
    "name": "ipython",
    "version": 3
   },
   "file_extension": ".py",
   "mimetype": "text/x-python",
   "name": "python",
   "nbconvert_exporter": "python",
   "pygments_lexer": "ipython3",
   "version": "3.7.5"
  }
 },
 "nbformat": 4,
 "nbformat_minor": 4
}
