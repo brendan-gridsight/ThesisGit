{
 "cells": [
  {
   "cell_type": "markdown",
   "metadata": {},
   "source": [
    "# SBRC Pandapower Power Flow - Unbalanced Network with MPC Simulation Results\n",
    "\n",
    "Notebook for obtaining distribution network sensitivities fro  SBRC microgrid via linear regression"
   ]
  },
  {
   "cell_type": "code",
   "execution_count": 8,
   "metadata": {},
   "outputs": [],
   "source": [
    "import pandas as pd\n",
    "import numpy as np\n",
    "import seaborn as sns\n",
    "import matplotlib.pyplot as plt\n",
    "import matplotlib\n",
    "import datetime\n",
    "from sklearn.model_selection import train_test_split\n",
    "from sklearn.linear_model import LinearRegression\n",
    "from sklearn.metrics import r2_score, mean_squared_error\n",
    "import pandapower as pp\n",
    "import os"
   ]
  },
  {
   "cell_type": "code",
   "execution_count": 9,
   "metadata": {},
   "outputs": [],
   "source": [
    "date = '2020-11-26'\n",
    "ts = '9am'\n",
    "te = '4pm'"
   ]
  },
  {
   "cell_type": "code",
   "execution_count": 10,
   "metadata": {},
   "outputs": [],
   "source": [
    "os.chdir('/home/brendan/PhD/Python Scripts/ThesisGit/Dist Network Simulations')"
   ]
  },
  {
   "cell_type": "code",
   "execution_count": 11,
   "metadata": {},
   "outputs": [],
   "source": [
    "sns.set(font_scale=1.35, rc={'figure.figsize':(12,5)})\n",
    "sns.set_style(\"darkgrid\", {\"axes.facecolor\": \".9\"})\n",
    "matplotlib.rcParams['font.family'] = 'Abyssinica SIL'"
   ]
  },
  {
   "cell_type": "markdown",
   "metadata": {},
   "source": [
    "### Import SBRC network data"
   ]
  },
  {
   "cell_type": "code",
   "execution_count": 12,
   "metadata": {},
   "outputs": [],
   "source": [
    "# eco_drh = pd.read_csv('Results/Ecomode_20min_DRH_3-11-2020_7am_6pm.csv', index_col=0)\n",
    "# eco_ifh = pd.read_csv('Results/Ecomode_20min_IFH_3-11-2020_7am_6pm.csv', index_col=0)\n",
    "# eco_sb1 = pd.read_csv('Results/Ecomode_20min_SBRC_P1_3-11-2020_7am_6pm.csv', index_col=0)\n",
    "# eco_sb2 = pd.read_csv('Results/Ecomode_20min_SBRC_P2_3-11-2020_7am_6pm.csv', index_col=0)\n",
    "# eco_sb3 = pd.read_csv('Results/Ecomode_20min_SBRC_P3_3-11-2020_7am_6pm.csv', index_col=0)"
   ]
  },
  {
   "cell_type": "code",
   "execution_count": 13,
   "metadata": {},
   "outputs": [],
   "source": [
    "# eco = pd.DataFrame(index=eco_drh.index[0:72])\n",
    "# eco['DR_Pa'] = eco_drh['p_im'] + eco_drh['p_ex']\n",
    "# eco['IF_Pc'] = eco_ifh['p_im'] + eco_ifh['p_ex']\n",
    "# eco['SB_Pa'] = eco_sb1['p_im'] + eco_sb1['p_ex']\n",
    "# eco['SB_Pb'] = eco_sb2['p_im'] + eco_sb2['p_ex']\n",
    "# eco['SB_Pc'] = eco_sb3['p_im'] + eco_sb3['p_ex']\n",
    "# eco.index = pd.to_datetime((eco.index), format='%Y/%m/%d %H:%M:%S')\n",
    "# eco = eco.resample('5min').interpolate('linear')"
   ]
  },
  {
   "cell_type": "code",
   "execution_count": 14,
   "metadata": {},
   "outputs": [],
   "source": [
    "rbc_drh = pd.read_csv(f'Results/RBC_20min_DRH_{date}.csv', index_col=0)\n",
    "# rbc_drh['pv'] = rbc_drh['pv'].shift(-3, axis=0)\n",
    "rbc_ifh = pd.read_csv(f'Results/RBC_20min_IFH_{date}.csv', index_col=0)\n",
    "rbc_sb1 = pd.read_csv(f'Results/RBC_20min_SBRC_P1_{date}.csv', index_col=0)\n",
    "rbc_sb2 = pd.read_csv(f'Results/RBC_20min_SBRC_P2_{date}.csv', index_col=0)\n",
    "rbc_sb3 = pd.read_csv(f'Results/RBC_20min_SBRC_P3_{date}.csv', index_col=0)"
   ]
  },
  {
   "cell_type": "code",
   "execution_count": 15,
   "metadata": {},
   "outputs": [],
   "source": [
    "rbc_drh.index = pd.to_datetime((rbc_drh.index), format='%Y/%m/%d %H:%M:%S')\n",
    "rbc_ifh.index = pd.to_datetime((rbc_ifh.index), format='%Y/%m/%d %H:%M:%S')\n",
    "rbc_sb1.index = pd.to_datetime((rbc_sb1.index), format='%Y/%m/%d %H:%M:%S')\n",
    "rbc_sb2.index = pd.to_datetime((rbc_sb2.index), format='%Y/%m/%d %H:%M:%S')\n",
    "rbc_sb3.index = pd.to_datetime((rbc_sb3.index), format='%Y/%m/%d %H:%M:%S')"
   ]
  },
  {
   "cell_type": "code",
   "execution_count": 16,
   "metadata": {},
   "outputs": [],
   "source": [
    "rbc = pd.DataFrame(index=rbc_drh.index[0:72])\n",
    "rbc['DR_Pa'] = rbc_drh['p_im'] + rbc_drh['p_ex']\n",
    "rbc['IF_Pc'] = rbc_ifh['p_im'] + rbc_ifh['p_ex']\n",
    "rbc['SB_Pa'] = rbc_sb1['p_im'] + rbc_sb1['p_ex']\n",
    "rbc['SB_Pb'] = rbc_sb2['p_im'] + rbc_sb2['p_ex']\n",
    "rbc['SB_Pc'] = rbc_sb3['p_im'] + rbc_sb3['p_ex']\n",
    "rbc.index = pd.to_datetime((rbc.index), format='%Y/%m/%d %H:%M:%S')\n",
    "rbc = rbc.resample('5min').interpolate('linear')"
   ]
  },
  {
   "cell_type": "code",
   "execution_count": 17,
   "metadata": {},
   "outputs": [
    {
     "data": {
      "text/html": [
       "<div>\n",
       "<style scoped>\n",
       "    .dataframe tbody tr th:only-of-type {\n",
       "        vertical-align: middle;\n",
       "    }\n",
       "\n",
       "    .dataframe tbody tr th {\n",
       "        vertical-align: top;\n",
       "    }\n",
       "\n",
       "    .dataframe thead th {\n",
       "        text-align: right;\n",
       "    }\n",
       "</style>\n",
       "<table border=\"1\" class=\"dataframe\">\n",
       "  <thead>\n",
       "    <tr style=\"text-align: right;\">\n",
       "      <th></th>\n",
       "      <th>DR_Pa</th>\n",
       "      <th>IF_Pc</th>\n",
       "      <th>SB_Pa</th>\n",
       "      <th>SB_Pb</th>\n",
       "      <th>SB_Pc</th>\n",
       "    </tr>\n",
       "  </thead>\n",
       "  <tbody>\n",
       "    <tr>\n",
       "      <th>2020-11-26 00:00:00</th>\n",
       "      <td>0.0</td>\n",
       "      <td>0.0000</td>\n",
       "      <td>16707.95000</td>\n",
       "      <td>3876.2500</td>\n",
       "      <td>9350.250</td>\n",
       "    </tr>\n",
       "    <tr>\n",
       "      <th>2020-11-26 00:05:00</th>\n",
       "      <td>0.0</td>\n",
       "      <td>0.0000</td>\n",
       "      <td>18302.33125</td>\n",
       "      <td>5652.8750</td>\n",
       "      <td>11086.625</td>\n",
       "    </tr>\n",
       "    <tr>\n",
       "      <th>2020-11-26 00:10:00</th>\n",
       "      <td>0.0</td>\n",
       "      <td>0.0000</td>\n",
       "      <td>19896.71250</td>\n",
       "      <td>7429.5000</td>\n",
       "      <td>12823.000</td>\n",
       "    </tr>\n",
       "    <tr>\n",
       "      <th>2020-11-26 00:15:00</th>\n",
       "      <td>0.0</td>\n",
       "      <td>0.0000</td>\n",
       "      <td>21491.09375</td>\n",
       "      <td>9206.1250</td>\n",
       "      <td>14559.375</td>\n",
       "    </tr>\n",
       "    <tr>\n",
       "      <th>2020-11-26 00:20:00</th>\n",
       "      <td>0.0</td>\n",
       "      <td>0.0000</td>\n",
       "      <td>23085.47500</td>\n",
       "      <td>10982.7500</td>\n",
       "      <td>16295.750</td>\n",
       "    </tr>\n",
       "    <tr>\n",
       "      <th>...</th>\n",
       "      <td>...</td>\n",
       "      <td>...</td>\n",
       "      <td>...</td>\n",
       "      <td>...</td>\n",
       "      <td>...</td>\n",
       "    </tr>\n",
       "    <tr>\n",
       "      <th>2020-11-26 23:20:00</th>\n",
       "      <td>0.0</td>\n",
       "      <td>321.0000</td>\n",
       "      <td>20422.07500</td>\n",
       "      <td>7388.2500</td>\n",
       "      <td>12386.750</td>\n",
       "    </tr>\n",
       "    <tr>\n",
       "      <th>2020-11-26 23:25:00</th>\n",
       "      <td>0.0</td>\n",
       "      <td>321.8125</td>\n",
       "      <td>20531.22500</td>\n",
       "      <td>7553.3125</td>\n",
       "      <td>12577.625</td>\n",
       "    </tr>\n",
       "    <tr>\n",
       "      <th>2020-11-26 23:30:00</th>\n",
       "      <td>0.0</td>\n",
       "      <td>322.6250</td>\n",
       "      <td>20640.37500</td>\n",
       "      <td>7718.3750</td>\n",
       "      <td>12768.500</td>\n",
       "    </tr>\n",
       "    <tr>\n",
       "      <th>2020-11-26 23:35:00</th>\n",
       "      <td>0.0</td>\n",
       "      <td>323.4375</td>\n",
       "      <td>20749.52500</td>\n",
       "      <td>7883.4375</td>\n",
       "      <td>12959.375</td>\n",
       "    </tr>\n",
       "    <tr>\n",
       "      <th>2020-11-26 23:40:00</th>\n",
       "      <td>0.0</td>\n",
       "      <td>324.2500</td>\n",
       "      <td>20858.67500</td>\n",
       "      <td>8048.5000</td>\n",
       "      <td>13150.250</td>\n",
       "    </tr>\n",
       "  </tbody>\n",
       "</table>\n",
       "<p>285 rows × 5 columns</p>\n",
       "</div>"
      ],
      "text/plain": [
       "                     DR_Pa     IF_Pc        SB_Pa       SB_Pb      SB_Pc\n",
       "2020-11-26 00:00:00    0.0    0.0000  16707.95000   3876.2500   9350.250\n",
       "2020-11-26 00:05:00    0.0    0.0000  18302.33125   5652.8750  11086.625\n",
       "2020-11-26 00:10:00    0.0    0.0000  19896.71250   7429.5000  12823.000\n",
       "2020-11-26 00:15:00    0.0    0.0000  21491.09375   9206.1250  14559.375\n",
       "2020-11-26 00:20:00    0.0    0.0000  23085.47500  10982.7500  16295.750\n",
       "...                    ...       ...          ...         ...        ...\n",
       "2020-11-26 23:20:00    0.0  321.0000  20422.07500   7388.2500  12386.750\n",
       "2020-11-26 23:25:00    0.0  321.8125  20531.22500   7553.3125  12577.625\n",
       "2020-11-26 23:30:00    0.0  322.6250  20640.37500   7718.3750  12768.500\n",
       "2020-11-26 23:35:00    0.0  323.4375  20749.52500   7883.4375  12959.375\n",
       "2020-11-26 23:40:00    0.0  324.2500  20858.67500   8048.5000  13150.250\n",
       "\n",
       "[285 rows x 5 columns]"
      ]
     },
     "execution_count": 17,
     "metadata": {},
     "output_type": "execute_result"
    }
   ],
   "source": [
    "rbc"
   ]
  },
  {
   "cell_type": "code",
   "execution_count": 18,
   "metadata": {},
   "outputs": [],
   "source": [
    "vr_drh = pd.read_csv(f'Results/VRmode_20min_DRH_{date}_{ts}_{te}.csv', index_col=0)\n",
    "vr_ifh = pd.read_csv(f'Results/VRmode_20min_IFH_{date}_{ts}_{te}.csv', index_col=0)\n",
    "vr_sb1 = pd.read_csv(f'Results/VRmode_20min_SBRC_P1_{date}_{ts}_{te}.csv', index_col=0)\n",
    "vr_sb2 = pd.read_csv(f'Results/VRmode_20min_SBRC_P2_{date}_{ts}_{te}.csv', index_col=0)\n",
    "vr_sb3 = pd.read_csv(f'Results/VRmode_20min_SBRC_P3_{date}_{ts}_{te}.csv', index_col=0)"
   ]
  },
  {
   "cell_type": "code",
   "execution_count": 19,
   "metadata": {},
   "outputs": [],
   "source": [
    "vr_drh.index = pd.to_datetime((vr_drh.index), format='%Y/%m/%d %H:%M:%S')\n",
    "vr_ifh.index = pd.to_datetime((vr_ifh.index), format='%Y/%m/%d %H:%M:%S')\n",
    "vr_sb1.index = pd.to_datetime((vr_sb1.index), format='%Y/%m/%d %H:%M:%S')\n",
    "vr_sb2.index = pd.to_datetime((vr_sb2.index), format='%Y/%m/%d %H:%M:%S')\n",
    "vr_sb3.index = pd.to_datetime((vr_sb3.index), format='%Y/%m/%d %H:%M:%S')"
   ]
  },
  {
   "cell_type": "code",
   "execution_count": 20,
   "metadata": {},
   "outputs": [],
   "source": [
    "vr = pd.DataFrame(index=vr_drh.index[0:72])\n",
    "vr['DR_Pa'] = vr_drh['p_im'] + vr_drh['p_ex']\n",
    "vr['IF_Pc'] = vr_ifh['p_im'] + vr_ifh['p_ex']\n",
    "vr['SB_Pa'] = vr_sb1['p_im'] + vr_sb1['p_ex']\n",
    "vr['SB_Pb'] = vr_sb2['p_im'] + vr_sb2['p_ex']\n",
    "vr['SB_Pc'] = vr_sb3['p_im'] + vr_sb3['p_ex']\n",
    "vr.index = pd.to_datetime((vr.index), format='%Y/%m/%d %H:%M:%S')\n",
    "vr = vr.resample('5min').interpolate('linear')"
   ]
  },
  {
   "cell_type": "code",
   "execution_count": 21,
   "metadata": {},
   "outputs": [],
   "source": [
    "kiosk_1 = pd.read_csv('CSV/Camp East Kiosk - Hioki PW3198 30sec 20201019 to 20201123 with n.CSV')\n",
    "kiosk_1.index = pd.to_datetime((kiosk_1['Date']+' '+kiosk_1['Time']), format='%Y/%m/%d %H:%M:%S')"
   ]
  },
  {
   "cell_type": "code",
   "execution_count": 22,
   "metadata": {},
   "outputs": [
    {
     "name": "stderr",
     "output_type": "stream",
     "text": [
      "/home/brendan/jupyter_env/lib/python3.7/site-packages/IPython/core/interactiveshell.py:3146: DtypeWarning: Columns (20,21,41,42) have mixed types.Specify dtype option on import or set low_memory=False.\n",
      "  interactivity=interactivity, compiler=compiler, result=result)\n"
     ]
    }
   ],
   "source": [
    "kiosk_2 = pd.read_csv('CSV/Camp East Kiosk - Hioki PW3198 30sec 20201218 to 20210118 with n.CSV')\n",
    "kiosk_2.index = pd.to_datetime((kiosk_2['Date']+' '+kiosk_2['Time']), format='%Y/%m/%d %H:%M:%S')"
   ]
  },
  {
   "cell_type": "code",
   "execution_count": 23,
   "metadata": {},
   "outputs": [],
   "source": [
    "kiosk = pd.concat([kiosk_1, kiosk_2])"
   ]
  },
  {
   "cell_type": "code",
   "execution_count": 24,
   "metadata": {},
   "outputs": [],
   "source": [
    "kiosk = kiosk.resample('5min').mean()"
   ]
  },
  {
   "cell_type": "code",
   "execution_count": 25,
   "metadata": {},
   "outputs": [],
   "source": [
    "os.chdir('/home/brendan/PhD/Python Scripts/ThesisGit/Time Series Plots')"
   ]
  },
  {
   "cell_type": "markdown",
   "metadata": {},
   "source": [
    "## Create Network Model"
   ]
  },
  {
   "cell_type": "code",
   "execution_count": 26,
   "metadata": {},
   "outputs": [],
   "source": [
    "def time_series_powerflow(scale, df):\n",
    "    \n",
    "    sim_results = pd.DataFrame(index=df.index, columns=['SB_Va', 'SB_Vb', 'SB_Vc', 'IF_Vc', 'DR_Va'])\n",
    "\n",
    "    for i,idx in enumerate(sim_results.index):\n",
    "        \n",
    "\n",
    "        net = pp.create_empty_network(sn_mva=100)\n",
    "\n",
    "        cable_25mm = dict(r_ohm_per_km=0.884,\n",
    "                      x_ohm_per_km=0.0973,\n",
    "                      c_nf_per_km=0.0,\n",
    "                      r0_ohm_per_km=0.884,\n",
    "                      x0_ohm_per_km=0.0973,\n",
    "                      c0_nf_per_km=0.0,\n",
    "                      max_i_ka=0.09,\n",
    "                     )\n",
    "\n",
    "        cable_95mm = dict(r_ohm_per_km=0.193,\n",
    "                          x_ohm_per_km=0.09,\n",
    "                          c_nf_per_km=0.0,\n",
    "                          r0_ohm_per_km=0.772,\n",
    "                          x0_ohm_per_km=0.36,\n",
    "                          c0_nf_per_km=0.0,\n",
    "                          max_i_ka=0.244,\n",
    "                         )\n",
    "\n",
    "        cable_240mm = dict(r_ohm_per_km=0.0754/2,\n",
    "                          x_ohm_per_km=0.0855/2,\n",
    "                          c_nf_per_km=0.0,\n",
    "                          r0_ohm_per_km=0.3016/2,\n",
    "                          x0_ohm_per_km=0.342/2,\n",
    "                          c0_nf_per_km=0.0,\n",
    "                          max_i_ka=0.426,\n",
    "                         )\n",
    "\n",
    "        pp.create_std_type(net, cable_25mm, '25mm')\n",
    "        pp.create_std_type(net, cable_95mm, '95mm')\n",
    "        pp.create_std_type(net, cable_240mm, '240mm')\n",
    "\n",
    "\n",
    "        b1 = pp.create_bus(net, vn_kv=0.4, name='LV-TX', geodata=(-34.399961,150.898769))\n",
    "        b2 = pp.create_bus(net, vn_kv=0.4, name='SBRC',geodata=(-34.400124,150.899592))\n",
    "        b3 = pp.create_bus(net, vn_kv=0.4, name='PILLAR',geodata=(-34.401032,150.897985))\n",
    "        b4 = pp.create_bus(net, vn_kv=0.4, name='IFH',geodata=(-34.400898,150.897876))\n",
    "        b5 = pp.create_bus(net, vn_kv=0.4, name='DRH',geodata=(-34.400762,150.897466))\n",
    "\n",
    "        pp.create_line(net, from_bus=b1, to_bus=b2, length_km=0.1, name=\"Line1\",std_type='240mm') \n",
    "        pp.create_line(net, from_bus=b2, to_bus=b3, length_km=0.3, name=\"Line2\",std_type='95mm') \n",
    "        pp.create_line(net, from_bus=b3, to_bus=b4, length_km=0.05, name=\"Line3\",std_type='25mm') \n",
    "        pp.create_line(net, from_bus=b3, to_bus=b5, length_km=0.08, name=\"Line4\",std_type='25mm')\n",
    "\n",
    "        pp.create_ext_grid(net, vm_pu=kiosk.loc[idx]['AvgUrms1']/230, bus=b1, s_sc_max_mva=10000, rx_max=0.1)\n",
    "        net.ext_grid[\"r0x0_max\"] = 0.1\n",
    "        net.ext_grid[\"x0x_max\"] = 1.0\n",
    "\n",
    "\n",
    "        pp.create_asymmetric_load(net, bus=b2, p_a_mw=(df.loc[idx]['SB_Pa']/1000000), q_a_mvar=(0/1000000), \n",
    "                                               p_b_mw=(df.loc[idx]['SB_Pb']/1000000), q_b_mvar=(0/1000000),\n",
    "                                               p_c_mw=(df.loc[idx]['SB_Pc']/1000000), q_c_mvar=(0/1000000), name=\"SBRC_Load\")\n",
    "        pp.create_asymmetric_load(net, bus=b4, p_c_mw=(df.loc[idx]['IF_Pc']/1000000), q_c_mvar=(0/1000000), name='IFH_Load')\n",
    "        pp.create_asymmetric_load(net, bus=b5, p_a_mw=(df.loc[idx]['DR_Pa']/1000000)*scale, q_a_mvar=(0/1000000), name='DRH_Load')\n",
    "\n",
    "        pp.add_zero_impedance_parameters(net)\n",
    "        pp.runpp_3ph(net, numba=False)\n",
    "\n",
    "        res = net.res_bus_3ph\n",
    "\n",
    "        #print(res)\n",
    "\n",
    "        sim_results.loc[idx,'SB_Va'] = res.loc[1]['vm_a_pu']*230\n",
    "        sim_results.loc[idx,'SB_Vb'] = res.loc[1]['vm_b_pu']*230\n",
    "        sim_results.loc[idx,'SB_Vc'] = res.loc[1]['vm_c_pu']*230\n",
    "        sim_results.loc[idx,'DR_Va'] = res.loc[4]['vm_a_pu']*230\n",
    "        sim_results.loc[idx,'IF_Vc'] = res.loc[3]['vm_c_pu']*230\n",
    "        \n",
    "    return sim_results\n",
    "    "
   ]
  },
  {
   "cell_type": "code",
   "execution_count": 27,
   "metadata": {},
   "outputs": [],
   "source": [
    "def plot_measured_actual(volts_before, volts_after, bus_volts):\n",
    "    fig, ax1 = plt.subplots()\n",
    "    ax1.set_xlabel('Time')\n",
    "    ax1.set_ylabel('kW')\n",
    "    #ax1.set_ylim(-7,11)\n",
    "#ax1.plot(volts_df.index, mg.loc[sim_date][bus_volts], linewidth=1, label='MEASURED')\n",
    "#     ax1.plot(volts_df.index, mg.loc[sim_date]['TX_Va'], linewidth=1, label='MEASURED')\n",
    "#     ax1.plot(volts_df.index, mg.loc[sim_date]['SB_Va'], linewidth=1, label='MEASURED')\n",
    "    ax1.plot(volts_before.index, volts_before[bus_volts], color='blue', linewidth=1, label='Before')\n",
    "    ax1.plot(volts_after.index, volts_after[bus_volts], color='Red', linewidth=1, label='After')\n",
    "    ax1.legend(loc=\"upper left\")\n",
    "    ax1.grid()\n",
    "    ax1.xaxis.set_major_formatter(dates.DateFormatter('%d-%m %H'))\n",
    "    fig.set_figheight(6)\n",
    "    fig.set_figwidth(9)\n",
    "    plt.show()"
   ]
  },
  {
   "cell_type": "code",
   "execution_count": 28,
   "metadata": {},
   "outputs": [],
   "source": [
    "def plot_sdhouses_measured_actual(volts_before, volts_after):\n",
    "    \n",
    "    fig, ax = plt.subplots(2, sharex=True)\n",
    "    \n",
    "    ax[0].set_ylabel('Voltage (Ph-A)')\n",
    "    ax[0].set_ylim(240,256)\n",
    "    ax[0].set_xlim(volts_before.index[0],volts_before.index[-1])\n",
    "    ax[0].plot(volts_before.index, volts_before['DR_Va'], color='blue')\n",
    "    ax[0].plot(volts_after.index, volts_after['DR_Va'], color='black',ls='--')\n",
    "    ax[0].legend(['DRH Measured Va', 'DRH Simulated Va'], loc=\"upper left\", ncol=2)\n",
    "    \n",
    "    ax[1].set_ylabel('Voltage (Ph-B)')\n",
    "    ax[1].set_ylim(240,256)\n",
    "    ax[0].set_xlim(volts_before.index[0],volts_before.index[-1])\n",
    "    ax[1].plot(volts_before.index, volts_before['IF_Vc'], color='orange')\n",
    "    ax[1].plot(volts_after.index, volts_after['IF_Vc'], color='black',ls='--')\n",
    "    ax[1].legend(['IFH Measured Vc', 'IFH Simulated Vc'], loc=\"upper left\", ncol=2)\n",
    "    \n",
    "    \n",
    "    fig.tight_layout()\n",
    "    fig.set_figheight(8)\n",
    "    fig.set_figwidth(12)# otherwise the right y-label is slightly clipped\n",
    "#     #ax.grid()\n",
    "    \n",
    "    \n",
    "    ax[0].autoscale(enable=True, axis='x', tight=True)\n",
    "    ax[1].autoscale(enable=True, axis='x', tight=True)\n",
    "    #ax.xaxis.set_major_formatter(dates.DateFormatter('%d-%m %H'))\n",
    "    #plt.savefig('Figures/sd_house_pandapower_voltages.pdf')\n",
    "    plt.show()"
   ]
  },
  {
   "cell_type": "code",
   "execution_count": 29,
   "metadata": {
    "scrolled": true
   },
   "outputs": [
    {
     "name": "stderr",
     "output_type": "stream",
     "text": [
      "/home/brendan/jupyter_env/lib/python3.7/site-packages/pandapower/pypower/dSbus_dV.py:34: RuntimeWarning: invalid value encountered in true_divide\n",
      "  diagVnorm = sparse((V / abs(V), (ib, ib)))\n",
      "/home/brendan/jupyter_env/lib/python3.7/site-packages/scipy/sparse/linalg/dsolve/linsolve.py:206: MatrixRankWarning: Matrix is exactly singular\n",
      "  warn(\"Matrix is exactly singular\", MatrixRankWarning)\n",
      "/home/brendan/jupyter_env/lib/python3.7/site-packages/pandapower/pf/runpp_3ph.py:510: RuntimeWarning: invalid value encountered in true_divide\n",
      "  i_abc_it_wye = (np.divide(s_abc_pu, v_abc_it)).conjugate()\n",
      "/home/brendan/jupyter_env/lib/python3.7/site-packages/pandapower/pf/runpp_3ph.py:512: RuntimeWarning: invalid value encountered in true_divide\n",
      "  (v_del_xfmn, v_abc_it))).conjugate())\n",
      "/home/brendan/jupyter_env/lib/python3.7/site-packages/pandapower/results_bus.py:54: RuntimeWarning: invalid value encountered in true_divide\n",
      "  net[\"res_bus_3ph\"][\"unbalance_percent\"] = np.abs(V012_pu[2, :]/V012_pu[1, :])*100\n",
      "/home/brendan/jupyter_env/lib/python3.7/site-packages/pandapower/auxiliary.py:835: RuntimeWarning: invalid value encountered in true_divide\n",
      "  return np.conjugate(np.divide(S, V, out=np.zeros_like(S), where=V != 0))  # Return zero if div by zero\n"
     ]
    },
    {
     "ename": "KeyboardInterrupt",
     "evalue": "",
     "output_type": "error",
     "traceback": [
      "\u001b[0;31m---------------------------------------------------------------------------\u001b[0m",
      "\u001b[0;31mKeyboardInterrupt\u001b[0m                         Traceback (most recent call last)",
      "\u001b[0;32m<ipython-input-29-f2e80a4955a7>\u001b[0m in \u001b[0;36m<module>\u001b[0;34m\u001b[0m\n\u001b[0;32m----> 1\u001b[0;31m \u001b[0mvolts_before\u001b[0m \u001b[0;34m=\u001b[0m \u001b[0mtime_series_powerflow\u001b[0m\u001b[0;34m(\u001b[0m\u001b[0mscale\u001b[0m\u001b[0;34m=\u001b[0m\u001b[0;36m1\u001b[0m\u001b[0;34m,\u001b[0m \u001b[0mdf\u001b[0m\u001b[0;34m=\u001b[0m\u001b[0mrbc\u001b[0m\u001b[0;34m)\u001b[0m\u001b[0;34m\u001b[0m\u001b[0;34m\u001b[0m\u001b[0m\n\u001b[0m",
      "\u001b[0;32m<ipython-input-26-d506f10d7f57>\u001b[0m in \u001b[0;36mtime_series_powerflow\u001b[0;34m(scale, df)\u001b[0m\n\u001b[1;32m     63\u001b[0m \u001b[0;34m\u001b[0m\u001b[0m\n\u001b[1;32m     64\u001b[0m         \u001b[0mpp\u001b[0m\u001b[0;34m.\u001b[0m\u001b[0madd_zero_impedance_parameters\u001b[0m\u001b[0;34m(\u001b[0m\u001b[0mnet\u001b[0m\u001b[0;34m)\u001b[0m\u001b[0;34m\u001b[0m\u001b[0;34m\u001b[0m\u001b[0m\n\u001b[0;32m---> 65\u001b[0;31m         \u001b[0mpp\u001b[0m\u001b[0;34m.\u001b[0m\u001b[0mrunpp_3ph\u001b[0m\u001b[0;34m(\u001b[0m\u001b[0mnet\u001b[0m\u001b[0;34m,\u001b[0m \u001b[0mnumba\u001b[0m\u001b[0;34m=\u001b[0m\u001b[0;32mFalse\u001b[0m\u001b[0;34m)\u001b[0m\u001b[0;34m\u001b[0m\u001b[0;34m\u001b[0m\u001b[0m\n\u001b[0m\u001b[1;32m     66\u001b[0m \u001b[0;34m\u001b[0m\u001b[0m\n\u001b[1;32m     67\u001b[0m         \u001b[0mres\u001b[0m \u001b[0;34m=\u001b[0m \u001b[0mnet\u001b[0m\u001b[0;34m.\u001b[0m\u001b[0mres_bus_3ph\u001b[0m\u001b[0;34m\u001b[0m\u001b[0;34m\u001b[0m\u001b[0m\n",
      "\u001b[0;32m~/jupyter_env/lib/python3.7/site-packages/pandapower/pf/runpp_3ph.py\u001b[0m in \u001b[0;36mrunpp_3ph\u001b[0;34m(net, calculate_voltage_angles, init, max_iteration, tolerance_mva, trafo_model, trafo_loading, enforce_q_lims, numba, recycle, check_connectivity, switch_rx_ratio, delta_q, v_debug, **kwargs)\u001b[0m\n\u001b[1;32m    470\u001b[0m \u001b[0;34m\u001b[0m\u001b[0m\n\u001b[1;32m    471\u001b[0m     \u001b[0mppci0\u001b[0m\u001b[0;34m,\u001b[0m \u001b[0mppci1\u001b[0m\u001b[0;34m,\u001b[0m \u001b[0mppci2\u001b[0m\u001b[0;34m,\u001b[0m \u001b[0my_0_pu\u001b[0m\u001b[0;34m,\u001b[0m \u001b[0my_1_pu\u001b[0m\u001b[0;34m,\u001b[0m \u001b[0my_2_pu\u001b[0m\u001b[0;34m,\u001b[0m \u001b[0my_0_f\u001b[0m\u001b[0;34m,\u001b[0m \u001b[0my_1_f\u001b[0m\u001b[0;34m,\u001b[0m \u001b[0my_2_f\u001b[0m\u001b[0;34m,\u001b[0m\u001b[0;31m\\\u001b[0m\u001b[0;34m\u001b[0m\u001b[0;34m\u001b[0m\u001b[0m\n\u001b[0;32m--> 472\u001b[0;31m         \u001b[0my_0_t\u001b[0m\u001b[0;34m,\u001b[0m \u001b[0my_1_t\u001b[0m\u001b[0;34m,\u001b[0m \u001b[0my_2_t\u001b[0m \u001b[0;34m=\u001b[0m \u001b[0m_get_y_bus\u001b[0m\u001b[0;34m(\u001b[0m\u001b[0mppci0\u001b[0m\u001b[0;34m,\u001b[0m \u001b[0mppci1\u001b[0m\u001b[0;34m,\u001b[0m \u001b[0mppci2\u001b[0m\u001b[0;34m,\u001b[0m \u001b[0mrecycle\u001b[0m\u001b[0;34m)\u001b[0m\u001b[0;34m\u001b[0m\u001b[0;34m\u001b[0m\u001b[0m\n\u001b[0m\u001b[1;32m    473\u001b[0m     \u001b[0;31m# =========================================================================\u001b[0m\u001b[0;34m\u001b[0m\u001b[0;34m\u001b[0m\u001b[0;34m\u001b[0m\u001b[0m\n\u001b[1;32m    474\u001b[0m     \u001b[0;31m# Initial voltage values\u001b[0m\u001b[0;34m\u001b[0m\u001b[0;34m\u001b[0m\u001b[0;34m\u001b[0m\u001b[0m\n",
      "\u001b[0;32m~/jupyter_env/lib/python3.7/site-packages/pandapower/pf/runpp_3ph.py\u001b[0m in \u001b[0;36m_get_y_bus\u001b[0;34m(ppci0, ppci1, ppci2, recycle)\u001b[0m\n\u001b[1;32m    637\u001b[0m         \u001b[0my_0_bus\u001b[0m\u001b[0;34m,\u001b[0m \u001b[0my_0_f\u001b[0m\u001b[0;34m,\u001b[0m \u001b[0my_0_t\u001b[0m \u001b[0;34m=\u001b[0m \u001b[0mmakeYbus\u001b[0m\u001b[0;34m(\u001b[0m\u001b[0mppci0\u001b[0m\u001b[0;34m[\u001b[0m\u001b[0;34m\"baseMVA\"\u001b[0m\u001b[0;34m]\u001b[0m\u001b[0;34m,\u001b[0m \u001b[0mppci0\u001b[0m\u001b[0;34m[\u001b[0m\u001b[0;34m\"bus\"\u001b[0m\u001b[0;34m]\u001b[0m\u001b[0;34m,\u001b[0m \u001b[0mppci0\u001b[0m\u001b[0;34m[\u001b[0m\u001b[0;34m\"branch\"\u001b[0m\u001b[0;34m]\u001b[0m\u001b[0;34m)\u001b[0m\u001b[0;34m\u001b[0m\u001b[0;34m\u001b[0m\u001b[0m\n\u001b[1;32m    638\u001b[0m         \u001b[0my_1_bus\u001b[0m\u001b[0;34m,\u001b[0m \u001b[0my_1_f\u001b[0m\u001b[0;34m,\u001b[0m \u001b[0my_1_t\u001b[0m \u001b[0;34m=\u001b[0m \u001b[0mmakeYbus\u001b[0m\u001b[0;34m(\u001b[0m\u001b[0mppci1\u001b[0m\u001b[0;34m[\u001b[0m\u001b[0;34m\"baseMVA\"\u001b[0m\u001b[0;34m]\u001b[0m\u001b[0;34m,\u001b[0m \u001b[0mppci1\u001b[0m\u001b[0;34m[\u001b[0m\u001b[0;34m\"bus\"\u001b[0m\u001b[0;34m]\u001b[0m\u001b[0;34m,\u001b[0m \u001b[0mppci1\u001b[0m\u001b[0;34m[\u001b[0m\u001b[0;34m\"branch\"\u001b[0m\u001b[0;34m]\u001b[0m\u001b[0;34m)\u001b[0m\u001b[0;34m\u001b[0m\u001b[0;34m\u001b[0m\u001b[0m\n\u001b[0;32m--> 639\u001b[0;31m         \u001b[0my_2_bus\u001b[0m\u001b[0;34m,\u001b[0m \u001b[0my_2_f\u001b[0m\u001b[0;34m,\u001b[0m \u001b[0my_2_t\u001b[0m \u001b[0;34m=\u001b[0m \u001b[0mmakeYbus\u001b[0m\u001b[0;34m(\u001b[0m\u001b[0mppci2\u001b[0m\u001b[0;34m[\u001b[0m\u001b[0;34m\"baseMVA\"\u001b[0m\u001b[0;34m]\u001b[0m\u001b[0;34m,\u001b[0m \u001b[0mppci2\u001b[0m\u001b[0;34m[\u001b[0m\u001b[0;34m\"bus\"\u001b[0m\u001b[0;34m]\u001b[0m\u001b[0;34m,\u001b[0m \u001b[0mppci2\u001b[0m\u001b[0;34m[\u001b[0m\u001b[0;34m\"branch\"\u001b[0m\u001b[0;34m]\u001b[0m\u001b[0;34m)\u001b[0m\u001b[0;34m\u001b[0m\u001b[0;34m\u001b[0m\u001b[0m\n\u001b[0m\u001b[1;32m    640\u001b[0m         \u001b[0;32mif\u001b[0m \u001b[0mrecycle\u001b[0m \u001b[0;32mis\u001b[0m \u001b[0;32mnot\u001b[0m \u001b[0;32mNone\u001b[0m \u001b[0;32mand\u001b[0m \u001b[0mrecycle\u001b[0m\u001b[0;34m[\u001b[0m\u001b[0;34m\"Ybus\"\u001b[0m\u001b[0;34m]\u001b[0m\u001b[0;34m:\u001b[0m\u001b[0;34m\u001b[0m\u001b[0;34m\u001b[0m\u001b[0m\n\u001b[1;32m    641\u001b[0m             \u001b[0mppci0\u001b[0m\u001b[0;34m[\u001b[0m\u001b[0;34m\"internal\"\u001b[0m\u001b[0;34m]\u001b[0m\u001b[0;34m[\u001b[0m\u001b[0;34m'Ybus'\u001b[0m\u001b[0;34m]\u001b[0m\u001b[0;34m,\u001b[0m \u001b[0mppci0\u001b[0m\u001b[0;34m[\u001b[0m\u001b[0;34m\"internal\"\u001b[0m\u001b[0;34m]\u001b[0m\u001b[0;34m[\u001b[0m\u001b[0;34m'Yf'\u001b[0m\u001b[0;34m]\u001b[0m\u001b[0;34m,\u001b[0m \u001b[0mppci0\u001b[0m\u001b[0;34m[\u001b[0m\u001b[0;34m\"internal\"\u001b[0m\u001b[0;34m]\u001b[0m\u001b[0;34m[\u001b[0m\u001b[0;34m'Yt'\u001b[0m\u001b[0;34m]\u001b[0m \u001b[0;34m=\u001b[0m \u001b[0my_0_bus\u001b[0m\u001b[0;34m,\u001b[0m \u001b[0my_0_f\u001b[0m\u001b[0;34m,\u001b[0m \u001b[0my_0_t\u001b[0m\u001b[0;34m\u001b[0m\u001b[0;34m\u001b[0m\u001b[0m\n",
      "\u001b[0;32m~/jupyter_env/lib/python3.7/site-packages/pandapower/pypower/makeYbus.py\u001b[0m in \u001b[0;36mmakeYbus\u001b[0;34m(baseMVA, bus, branch)\u001b[0m\n\u001b[1;32m     70\u001b[0m \u001b[0;34m\u001b[0m\u001b[0m\n\u001b[1;32m     71\u001b[0m     \u001b[0;31m## build Ybus\u001b[0m\u001b[0;34m\u001b[0m\u001b[0;34m\u001b[0m\u001b[0;34m\u001b[0m\u001b[0m\n\u001b[0;32m---> 72\u001b[0;31m     \u001b[0mYbus\u001b[0m \u001b[0;34m=\u001b[0m \u001b[0mCf\u001b[0m\u001b[0;34m.\u001b[0m\u001b[0mT\u001b[0m \u001b[0;34m*\u001b[0m \u001b[0mYf\u001b[0m \u001b[0;34m+\u001b[0m \u001b[0mCt\u001b[0m\u001b[0;34m.\u001b[0m\u001b[0mT\u001b[0m \u001b[0;34m*\u001b[0m \u001b[0mYt\u001b[0m \u001b[0;34m+\u001b[0m\u001b[0;31m \u001b[0m\u001b[0;31m\\\u001b[0m\u001b[0;34m\u001b[0m\u001b[0;34m\u001b[0m\u001b[0m\n\u001b[0m\u001b[1;32m     73\u001b[0m            \u001b[0mcsr_matrix\u001b[0m\u001b[0;34m(\u001b[0m\u001b[0;34m(\u001b[0m\u001b[0mYsh\u001b[0m\u001b[0;34m,\u001b[0m \u001b[0;34m(\u001b[0m\u001b[0mrange\u001b[0m\u001b[0;34m(\u001b[0m\u001b[0mnb\u001b[0m\u001b[0;34m)\u001b[0m\u001b[0;34m,\u001b[0m \u001b[0mrange\u001b[0m\u001b[0;34m(\u001b[0m\u001b[0mnb\u001b[0m\u001b[0;34m)\u001b[0m\u001b[0;34m)\u001b[0m\u001b[0;34m)\u001b[0m\u001b[0;34m,\u001b[0m \u001b[0;34m(\u001b[0m\u001b[0mnb\u001b[0m\u001b[0;34m,\u001b[0m \u001b[0mnb\u001b[0m\u001b[0;34m)\u001b[0m\u001b[0;34m)\u001b[0m\u001b[0;34m\u001b[0m\u001b[0;34m\u001b[0m\u001b[0m\n\u001b[1;32m     74\u001b[0m \u001b[0;34m\u001b[0m\u001b[0m\n",
      "\u001b[0;32m~/jupyter_env/lib/python3.7/site-packages/scipy/sparse/base.py\u001b[0m in \u001b[0;36m__mul__\u001b[0;34m(self, other)\u001b[0m\n\u001b[1;32m    478\u001b[0m             \u001b[0;32mif\u001b[0m \u001b[0mself\u001b[0m\u001b[0;34m.\u001b[0m\u001b[0mshape\u001b[0m\u001b[0;34m[\u001b[0m\u001b[0;36m1\u001b[0m\u001b[0;34m]\u001b[0m \u001b[0;34m!=\u001b[0m \u001b[0mother\u001b[0m\u001b[0;34m.\u001b[0m\u001b[0mshape\u001b[0m\u001b[0;34m[\u001b[0m\u001b[0;36m0\u001b[0m\u001b[0;34m]\u001b[0m\u001b[0;34m:\u001b[0m\u001b[0;34m\u001b[0m\u001b[0;34m\u001b[0m\u001b[0m\n\u001b[1;32m    479\u001b[0m                 \u001b[0;32mraise\u001b[0m \u001b[0mValueError\u001b[0m\u001b[0;34m(\u001b[0m\u001b[0;34m'dimension mismatch'\u001b[0m\u001b[0;34m)\u001b[0m\u001b[0;34m\u001b[0m\u001b[0;34m\u001b[0m\u001b[0m\n\u001b[0;32m--> 480\u001b[0;31m             \u001b[0;32mreturn\u001b[0m \u001b[0mself\u001b[0m\u001b[0;34m.\u001b[0m\u001b[0m_mul_sparse_matrix\u001b[0m\u001b[0;34m(\u001b[0m\u001b[0mother\u001b[0m\u001b[0;34m)\u001b[0m\u001b[0;34m\u001b[0m\u001b[0;34m\u001b[0m\u001b[0m\n\u001b[0m\u001b[1;32m    481\u001b[0m \u001b[0;34m\u001b[0m\u001b[0m\n\u001b[1;32m    482\u001b[0m         \u001b[0;31m# If it's a list or whatever, treat it like a matrix\u001b[0m\u001b[0;34m\u001b[0m\u001b[0;34m\u001b[0m\u001b[0;34m\u001b[0m\u001b[0m\n",
      "\u001b[0;32m~/jupyter_env/lib/python3.7/site-packages/scipy/sparse/compressed.py\u001b[0m in \u001b[0;36m_mul_sparse_matrix\u001b[0;34m(self, other)\u001b[0m\n\u001b[1;32m    497\u001b[0m \u001b[0;34m\u001b[0m\u001b[0m\n\u001b[1;32m    498\u001b[0m         \u001b[0mmajor_axis\u001b[0m \u001b[0;34m=\u001b[0m \u001b[0mself\u001b[0m\u001b[0;34m.\u001b[0m\u001b[0m_swap\u001b[0m\u001b[0;34m(\u001b[0m\u001b[0;34m(\u001b[0m\u001b[0mM\u001b[0m\u001b[0;34m,\u001b[0m \u001b[0mN\u001b[0m\u001b[0;34m)\u001b[0m\u001b[0;34m)\u001b[0m\u001b[0;34m[\u001b[0m\u001b[0;36m0\u001b[0m\u001b[0;34m]\u001b[0m\u001b[0;34m\u001b[0m\u001b[0;34m\u001b[0m\u001b[0m\n\u001b[0;32m--> 499\u001b[0;31m         \u001b[0mother\u001b[0m \u001b[0;34m=\u001b[0m \u001b[0mself\u001b[0m\u001b[0;34m.\u001b[0m\u001b[0m__class__\u001b[0m\u001b[0;34m(\u001b[0m\u001b[0mother\u001b[0m\u001b[0;34m)\u001b[0m  \u001b[0;31m# convert to this format\u001b[0m\u001b[0;34m\u001b[0m\u001b[0;34m\u001b[0m\u001b[0m\n\u001b[0m\u001b[1;32m    500\u001b[0m \u001b[0;34m\u001b[0m\u001b[0m\n\u001b[1;32m    501\u001b[0m         idx_dtype = get_index_dtype((self.indptr, self.indices,\n",
      "\u001b[0;32m~/jupyter_env/lib/python3.7/site-packages/scipy/sparse/compressed.py\u001b[0m in \u001b[0;36m__init__\u001b[0;34m(self, arg1, shape, dtype, copy)\u001b[0m\n\u001b[1;32m     28\u001b[0m         \u001b[0m_data_matrix\u001b[0m\u001b[0;34m.\u001b[0m\u001b[0m__init__\u001b[0m\u001b[0;34m(\u001b[0m\u001b[0mself\u001b[0m\u001b[0;34m)\u001b[0m\u001b[0;34m\u001b[0m\u001b[0;34m\u001b[0m\u001b[0m\n\u001b[1;32m     29\u001b[0m \u001b[0;34m\u001b[0m\u001b[0m\n\u001b[0;32m---> 30\u001b[0;31m         \u001b[0;32mif\u001b[0m \u001b[0misspmatrix\u001b[0m\u001b[0;34m(\u001b[0m\u001b[0marg1\u001b[0m\u001b[0;34m)\u001b[0m\u001b[0;34m:\u001b[0m\u001b[0;34m\u001b[0m\u001b[0;34m\u001b[0m\u001b[0m\n\u001b[0m\u001b[1;32m     31\u001b[0m             \u001b[0;32mif\u001b[0m \u001b[0marg1\u001b[0m\u001b[0;34m.\u001b[0m\u001b[0mformat\u001b[0m \u001b[0;34m==\u001b[0m \u001b[0mself\u001b[0m\u001b[0;34m.\u001b[0m\u001b[0mformat\u001b[0m \u001b[0;32mand\u001b[0m \u001b[0mcopy\u001b[0m\u001b[0;34m:\u001b[0m\u001b[0;34m\u001b[0m\u001b[0;34m\u001b[0m\u001b[0m\n\u001b[1;32m     32\u001b[0m                 \u001b[0marg1\u001b[0m \u001b[0;34m=\u001b[0m \u001b[0marg1\u001b[0m\u001b[0;34m.\u001b[0m\u001b[0mcopy\u001b[0m\u001b[0;34m(\u001b[0m\u001b[0;34m)\u001b[0m\u001b[0;34m\u001b[0m\u001b[0;34m\u001b[0m\u001b[0m\n",
      "\u001b[0;32m~/jupyter_env/lib/python3.7/site-packages/scipy/sparse/base.py\u001b[0m in \u001b[0;36misspmatrix\u001b[0;34m(x)\u001b[0m\n\u001b[1;32m   1213\u001b[0m     \u001b[0;32mFalse\u001b[0m\u001b[0;34m\u001b[0m\u001b[0;34m\u001b[0m\u001b[0m\n\u001b[1;32m   1214\u001b[0m     \"\"\"\n\u001b[0;32m-> 1215\u001b[0;31m     \u001b[0;32mreturn\u001b[0m \u001b[0misinstance\u001b[0m\u001b[0;34m(\u001b[0m\u001b[0mx\u001b[0m\u001b[0;34m,\u001b[0m \u001b[0mspmatrix\u001b[0m\u001b[0;34m)\u001b[0m\u001b[0;34m\u001b[0m\u001b[0;34m\u001b[0m\u001b[0m\n\u001b[0m\u001b[1;32m   1216\u001b[0m \u001b[0;34m\u001b[0m\u001b[0m\n\u001b[1;32m   1217\u001b[0m \u001b[0;34m\u001b[0m\u001b[0m\n",
      "\u001b[0;31mKeyboardInterrupt\u001b[0m: "
     ]
    }
   ],
   "source": [
    "volts_before = time_series_powerflow(scale=1, df=rbc)"
   ]
  },
  {
   "cell_type": "code",
   "execution_count": null,
   "metadata": {},
   "outputs": [],
   "source": [
    "volts_after = time_series_powerflow(scale=1, df=vr)"
   ]
  },
  {
   "cell_type": "code",
   "execution_count": null,
   "metadata": {
    "scrolled": true
   },
   "outputs": [],
   "source": [
    "plot_sdhouses_measured_actual(volts_before, volts_after)"
   ]
  },
  {
   "cell_type": "code",
   "execution_count": null,
   "metadata": {},
   "outputs": [],
   "source": [
    "#volts_after = time_series_powerflow(scale=1.02)"
   ]
  },
  {
   "cell_type": "code",
   "execution_count": null,
   "metadata": {
    "scrolled": false
   },
   "outputs": [],
   "source": [
    "#plot_measured_actual(volts_before, bus_volts='DR_Va')"
   ]
  },
  {
   "cell_type": "code",
   "execution_count": null,
   "metadata": {
    "scrolled": true
   },
   "outputs": [],
   "source": [
    "phase_a_volts_before = pd.DataFrame(index=volts_after.index)\n",
    "phase_a_volts_before['TX Va'] = kiosk['AvgUrms1']\n",
    "phase_a_volts_before['SBRC Va'] = volts_before['SB_Va']\n",
    "phase_a_volts_before['DRH Va'] = volts_before['DR_Va']\n",
    "phase_a_volts_before.index = phase_a_volts_before.index.time"
   ]
  },
  {
   "cell_type": "code",
   "execution_count": null,
   "metadata": {},
   "outputs": [],
   "source": [
    "phase_a_volts_after = pd.DataFrame(index=volts_after.index)\n",
    "phase_a_volts_after['TX Va'] = kiosk['AvgUrms1']\n",
    "phase_a_volts_after['SBRC Va'] = volts_after['SB_Va']\n",
    "phase_a_volts_after['DRH Va'] = volts_after['DR_Va']\n",
    "phase_a_volts_after.index = phase_a_volts_after.index.time"
   ]
  },
  {
   "cell_type": "code",
   "execution_count": null,
   "metadata": {},
   "outputs": [],
   "source": [
    "phase_c_volts_before = pd.DataFrame(index=volts_before.index)\n",
    "phase_c_volts_before['TX Vc'] = kiosk['AvgUrms3']\n",
    "phase_c_volts_before['SBRC Vc'] = volts_before['SB_Vc']\n",
    "phase_c_volts_before['IFH Vc'] = volts_before['IF_Vc']\n",
    "phase_c_volts_before.index = phase_c_volts_before.index.time"
   ]
  },
  {
   "cell_type": "code",
   "execution_count": null,
   "metadata": {},
   "outputs": [],
   "source": [
    "phase_c_volts_after = pd.DataFrame(index=volts_after.index)\n",
    "phase_c_volts_after['TX Vc'] = kiosk['AvgUrms3']\n",
    "phase_c_volts_after['SBRC Vc'] = volts_after['SB_Vc']\n",
    "phase_c_volts_after['IFH Vc'] = volts_after['IF_Vc']\n",
    "phase_c_volts_after.index = phase_c_volts_after.index.time"
   ]
  },
  {
   "cell_type": "code",
   "execution_count": null,
   "metadata": {
    "scrolled": true
   },
   "outputs": [],
   "source": [
    "fig, (ax1, ax2, axcb) = plt.subplots(1,3, sharey=False, sharex=False,gridspec_kw={'width_ratios':[1,1,0.08]})\n",
    "ax1.get_shared_y_axes().join(ax2)\n",
    "v1 = sns.heatmap(phase_c_volts_before.astype(float), cmap='viridis', vmin=245, vmax=250, cbar=False, ax=ax1)\n",
    "v2 = sns.heatmap(phase_c_volts_after.astype(float), cmap='viridis', vmin=245, vmax=250, cbar_kws={'label': 'Voltage (p.u.)'}, ax=ax2, cbar_ax=axcb)\n",
    "v2.set_ylabel('')\n",
    "v2.set_xlabel('')\n",
    "v2.set_yticks([])\n",
    "plt.show()"
   ]
  },
  {
   "cell_type": "code",
   "execution_count": null,
   "metadata": {},
   "outputs": [],
   "source": [
    "fig, (ax1, ax2, axcb) = plt.subplots(1,3, sharey=False, sharex=False,gridspec_kw={'width_ratios':[1,1,0.08]})\n",
    "ax1.get_shared_y_axes().join(ax2)\n",
    "v1 = sns.heatmap(phase_a_volts_before.astype(float), cmap='viridis', vmin=245, vmax=250, cbar=False, ax=ax1)\n",
    "v2 = sns.heatmap(phase_a_volts_after.astype(float), cmap='viridis', vmin=245, vmax=250, cbar_kws={'label': 'Voltage (p.u.)'}, ax=ax2, cbar_ax=axcb)\n",
    "v2.set_ylabel('')\n",
    "v2.set_xlabel('')\n",
    "v2.set_yticks([])\n",
    "plt.show()"
   ]
  },
  {
   "cell_type": "code",
   "execution_count": null,
   "metadata": {},
   "outputs": [],
   "source": [
    "rbc_drh['p_hvac']"
   ]
  },
  {
   "cell_type": "markdown",
   "metadata": {},
   "source": [
    "## Plot gross load and PV data"
   ]
  },
  {
   "cell_type": "code",
   "execution_count": null,
   "metadata": {
    "scrolled": true
   },
   "outputs": [],
   "source": [
    "fig, ax = plt.subplots(2, sharex=True)\n",
    "\n",
    "drh = rbc_drh.loc[date].copy()\n",
    "ifh = rbc_ifh.loc[date].copy()\n",
    "\n",
    "ax[0].set_ylabel('Voltage (Ph-A)')\n",
    "#ax[0].set_ylim(240,254)\n",
    "ax[0].set_xlim(drh.index[0],drh.index[-1])\n",
    "ax[0].plot(drh.index, drh['load'], color='blue')\n",
    "ax[0].plot(drh.index, vr_drh.loc[date]['pv'], color='black',ls='--')\n",
    "ax[0].legend(['DRH Inelastic Load', 'DRH PV'], loc=\"upper left\", ncol=2)\n",
    "\n",
    "ax[1].set_ylabel('Voltage (Ph-B)')\n",
    "#ax[1].set_ylim(240,254)\n",
    "ax[0].set_xlim(ifh.index[0],ifh.index[-1])\n",
    "ax[1].plot(ifh.index, ifh['load'], color='orange')\n",
    "ax[1].plot(ifh.index, ifh['pv'], color='black',ls='--')\n",
    "ax[1].legend(['IFH Inelastic Load', 'IFH PV'], loc=\"upper left\", ncol=2)\n",
    "\n",
    "\n",
    "fig.tight_layout()\n",
    "fig.set_figheight(8)\n",
    "fig.set_figwidth(12)# otherwise the right y-label is slightly clipped\n",
    "#     #ax.grid()\n",
    "\n",
    "#plt.savefig('Figures/sd_house_pandapower_voltages.pdf')\n",
    "ax[0].autoscale(enable=True, axis='x', tight=True)\n",
    "ax[1].autoscale(enable=True, axis='x', tight=True)\n",
    "plt.show()"
   ]
  },
  {
   "cell_type": "code",
   "execution_count": null,
   "metadata": {},
   "outputs": [],
   "source": [
    "fig, ax = plt.subplots(3, sharex=True)\n",
    "\n",
    "sb1 = rbc_sb1.loc[date].copy()\n",
    "sb2 = rbc_sb2.loc[date].copy()\n",
    "sb3 = rbc_sb3.loc[date].copy()\n",
    "\n",
    "ax[0].set_ylabel('Power (W)')\n",
    "ax[0].set_xlim(sb1.index[0],sb1.index[-1])\n",
    "ax[0].plot(sb1.index,sb1['load'], color='blue')\n",
    "ax[0].plot(sb1.index, sb1['pv'], color='black',ls='--')\n",
    "ax[0].legend(['Phase-A Load', 'Phase-A PV'], loc=\"upper left\", ncol=2)\n",
    "\n",
    "ax[1].set_ylabel('Power (W)')\n",
    "ax[1].set_xlim(sb1.index[0],sb1.index[-1])\n",
    "ax[1].plot(sb1.index,sb2['load'], color='red')\n",
    "ax[1].plot(sb1.index, sb2['pv'], color='black',ls='--')\n",
    "ax[1].legend(['Phase-B Load', 'Phase-B PV'], loc=\"upper left\", ncol=2)\n",
    "\n",
    "ax[2].set_ylabel('Power (W)')\n",
    "ax[2].set_xlim(sb1.index[0],sb1.index[-1])\n",
    "ax[2].plot(sb1.index,sb3['load'], color='orange')\n",
    "ax[2].plot(sb1.index, sb3['pv'], color='black',ls='--')\n",
    "ax[2].legend(['Phase-C Load', 'Phase-C PV'], loc=\"upper left\", ncol=2)\n",
    "\n",
    "fig.tight_layout()\n",
    "fig.set_figheight(9)\n",
    "fig.set_figwidth(12)# otherwise the right y-label is slightly clipped\n",
    "#     #ax.grid()\n",
    "\n",
    "#plt.savefig('Figures/sbrc_pandapower_voltages.pdf')\n",
    "ax[0].autoscale(enable=True, axis='x', tight=True)\n",
    "ax[1].autoscale(enable=True, axis='x', tight=True)\n",
    "plt.show()\n",
    "    "
   ]
  },
  {
   "cell_type": "code",
   "execution_count": null,
   "metadata": {
    "scrolled": true
   },
   "outputs": [],
   "source": [
    "fig, ax = plt.subplots(5, sharex=True)\n",
    "\n",
    "sb1 = rbc_sb1.loc[date].copy()\n",
    "sb2 = rbc_sb2.loc[date].copy()\n",
    "sb3 = rbc_sb3.loc[date].copy()\n",
    "\n",
    "drh = rbc_drh.loc[date].copy()\n",
    "ifh = rbc_ifh.loc[date].copy()\n",
    "\n",
    "\n",
    "ax[0].set_ylabel('Power (W)')\n",
    "ax[0].set_xlim(sb1.index[0],sb1.index[-1])\n",
    "ax[0].plot(sb1.index,sb1['load'], color='blue')\n",
    "ax[0].plot(sb1.index, sb1['pv'], color='black',ls='--')\n",
    "ax[0].legend(['SBRC Ph-A Load', 'SBRC Ph-A PV'], loc=\"upper left\", ncol=2)\n",
    "\n",
    "ax[1].set_ylabel('Power (W)')\n",
    "ax[1].set_xlim(sb1.index[0],sb1.index[-1])\n",
    "ax[1].plot(sb1.index,sb2['load'], color='red')\n",
    "ax[1].plot(sb1.index, sb2['pv'], color='black',ls='--')\n",
    "ax[1].legend(['SBRC Ph-B Load', 'SBRC Ph-B PV'], loc=\"upper left\", ncol=2)\n",
    "\n",
    "ax[2].set_ylabel('Power (W)')\n",
    "ax[2].set_xlim(sb1.index[0],sb1.index[-1])\n",
    "ax[2].plot(sb1.index,sb3['load'], color='orange')\n",
    "ax[2].plot(sb1.index, sb3['pv'], color='black',ls='--')\n",
    "ax[2].legend(['SBRC Ph-C Load', 'SBRC Ph-C PV'], loc=\"upper left\", ncol=2)\n",
    "\n",
    "\n",
    "ax[3].set_ylabel('Power (W)')\n",
    "#ax[0].set_ylim(240,254)\n",
    "ax[3].set_xlim(drh.index[0],drh.index[-1])\n",
    "ax[3].plot(drh.index, drh['load'], color='blue')\n",
    "ax[3].plot(drh.index, vr_drh.loc[date]['pv'], color='black',ls='--')\n",
    "ax[3].legend(['DRH Load', 'DRH PV'], loc=\"upper left\", ncol=2)\n",
    "\n",
    "ax[4].set_ylabel('Power (W)')\n",
    "#ax[1].set_ylim(240,254)\n",
    "ax[4].set_xlim(ifh.index[0],ifh.index[-1])\n",
    "ax[4].plot(ifh.index, ifh['load'], color='orange')\n",
    "ax[4].plot(ifh.index, ifh['pv'], color='black',ls='--')\n",
    "ax[4].legend(['IFH Load', 'IFH PV'], loc=\"upper left\", ncol=2)\n",
    "\n",
    "\n",
    "fig.tight_layout()\n",
    "fig.set_figheight(16)\n",
    "fig.set_figwidth(12)# otherwise the right y-label is slightly clipped\n",
    "#     #ax.grid()\n",
    "fig.tight_layout()\n",
    "#plt.savefig('Figures/sbrc_mg_loads.pdf')\n",
    "ax[0].autoscale(enable=True, axis='x', tight=True)\n",
    "ax[1].autoscale(enable=True, axis='x', tight=True)\n",
    "\n",
    "plt.show()\n",
    "    "
   ]
  },
  {
   "cell_type": "code",
   "execution_count": null,
   "metadata": {},
   "outputs": [],
   "source": [
    "df_thermal = rbc_drh.loc[date].copy()\n",
    "\n",
    "fig, ax1 = plt.subplots()\n",
    "ax1.set_xlabel('Time')\n",
    "ax1.set_ylabel('Solar Irradiance (kW/m$^2$)')\n",
    "ax1.set_ylim(-0,1.25)\n",
    "ax1.plot(df_thermal.index, df_thermal['ghi']/1000, label='Power', lw=1.5, color='blue', linestyle='--')\n",
    "#ax1.plot(df_thermal['time_'], df_electrical['power_3'], label='Temp Bed', lw=3, color='g')\n",
    "ax1.legend(['$\\Psi_{ghi}$', '$\\Phi_h$'], loc=\"upper left\")\n",
    "ax1.set_xlim([df_thermal.index[0], df_thermal.index[-1:][0]])\n",
    "\n",
    "ax2 = ax1.twinx()\n",
    "ax2.set_ylabel('Temperature ($^\\circ$C)')\n",
    "ax2.set_ylim(0,30)\n",
    "#ax2.plot(df_thermal.index, df_thermal['t_av'], label='Temp Bed', lw=2, color='black')\n",
    "ax2.plot(df_thermal.index, df_thermal['t_ext'], label='Temp Bed', lw=1.5, color='green',  linestyle='-.')\n",
    "# ax2.plot(df_thermal['time_'], df_thermal['t_std'], label='Temp Bed', lw=3)\n",
    "# ax2.plot(df_thermal['time_'], df_thermal['t_liv'], label='Temp Bed', lw=3)\n",
    "# ax2.plot(df_thermal['time_'], df_thermal['t_din'], label='Temp Ext', lw=3)\n",
    "ax2.legend(['$T_a$'])\n",
    "\n",
    "fig.tight_layout()\n",
    "fig.set_figheight(5)\n",
    "fig.set_figwidth(12)# otherwise the right y-label is slightly clipped\n",
    "ax2.grid()\n",
    "#plt.savefig(f'Figures/sbrc_mg_vr_simdata_weather.pdf', bbox_inches='tight')\n",
    "plt.show()"
   ]
  },
  {
   "cell_type": "code",
   "execution_count": null,
   "metadata": {},
   "outputs": [],
   "source": [
    "fig, ax = plt.subplots(1)\n",
    "\n",
    "kp = kiosk.loc[date].copy()\n",
    "\n",
    "ax.set_ylabel('Voltage (V)')\n",
    "ax.set_ylim(241,251)\n",
    "ax.set_xlim(kp.index[0],kp.index[-1])\n",
    "ax.plot(kp.index,kp['AvgUrms1'], color='blue')\n",
    "ax.plot(kp.index, kp['AvgUrms2'], color='red',ls='--')\n",
    "ax.plot(kp.index, kp['AvgUrms3'], color='orange',ls='-.')\n",
    "ax.legend(['Phase-A', 'Phase-B','Phase-C'], loc=\"upper left\", ncol=3)\n",
    "\n",
    "fig.tight_layout()\n",
    "fig.set_figheight(5)\n",
    "fig.set_figwidth(12)# otherwise the right y-label is slightly clipped\n",
    "\n",
    "#plt.savefig('Figures/sbrc_mg_slack.pdf')\n",
    "plt.show()"
   ]
  },
  {
   "cell_type": "code",
   "execution_count": null,
   "metadata": {
    "scrolled": false
   },
   "outputs": [],
   "source": [
    "fig, ax = plt.subplots(2, sharex=True)\n",
    "\n",
    "sb1 = rbc_sb1.loc[date].copy()\n",
    "sb2 = rbc_sb2.loc[date].copy()\n",
    "sb3 = rbc_sb3.loc[date].copy()\n",
    "\n",
    "drh = rbc_drh.loc[date].copy()\n",
    "ifh = rbc_ifh.loc[date].copy()\n",
    "\n",
    "\n",
    "ax[0].set_ylabel('Power (W)')\n",
    "ax[0].set_xlim(sb1.index[0],sb1.index[-1])\n",
    "ax[0].set_ylim(-40000,35000)\n",
    "ax[0].plot(sb1.index,sb1['p_im']+sb1['p_ex'], color='blue')\n",
    "ax[0].plot(sb1.index,sb2['p_im']+sb2['p_ex'], color='red', ls='--')\n",
    "ax[0].plot(sb1.index,sb3['p_im']+sb3['p_ex'], color='orange', ls='-.')\n",
    "# ax[0].plot(sb1.index, sb1['pv'], color='black',ls='--')\n",
    "ax[0].legend(['SBRC Ph-A Load', 'SBRC Ph-B Load', 'SBRC Ph-C Load'], loc=\"lower left\", ncol=1)\n",
    "\n",
    "ax[1].set_ylabel('Power (W)')\n",
    "ax[1].set_xlim(sb1.index[0],sb1.index[-1])\n",
    "ax[1].set_ylim(-7000,5000)\n",
    "ax[1].plot(drh.index, drh['p_im']+ drh['p_ex'], color='blue')\n",
    "ax[1].plot(ifh.index, ifh['p_im']+ ifh['p_ex'], color='orange',  ls='-.')\n",
    "#ax[1].plot(sb1.index,sb2['p_im']+sb2['p_ex'], color='red')\n",
    "#ax[1].plot(sb1.index, sb2['pv'], color='black',ls='--')\n",
    "ax[1].legend(['DRH Load', 'IFH Load'], loc=\"upper left\", ncol=1)\n",
    "\n",
    "\n",
    "\n",
    "fig.set_figheight(9)\n",
    "fig.set_figwidth(12)# otherwise the right y-label is slightly clipped\n",
    "#     #ax.grid()\n",
    "\n",
    "\n",
    "ax[0].autoscale(enable=True, axis='x', tight=True)\n",
    "ax[1].autoscale(enable=True, axis='x', tight=True)\n",
    "fig.tight_layout()\n",
    "#plt.savefig('Figures/rbc_net_load.pdf')\n",
    "plt.show()\n",
    "    "
   ]
  },
  {
   "cell_type": "code",
   "execution_count": null,
   "metadata": {},
   "outputs": [],
   "source": [
    "print((sb1['p_im']+sb1['p_ex']).min())\n",
    "print((sb2['p_im']+sb2['p_ex']).min())\n",
    "print((sb3['p_im']+sb3['p_ex']).min())\n",
    "print((drh['p_im']+drh['p_ex']).min())\n",
    "print((ifh['p_im']+ifh['p_ex']).min())"
   ]
  },
  {
   "cell_type": "code",
   "execution_count": null,
   "metadata": {},
   "outputs": [],
   "source": [
    "fig, ax = plt.subplots(2, sharex=True)\n",
    "\n",
    "sb1 = vr_sb1.loc[date].copy()\n",
    "sb2 = vr_sb2.loc[date].copy()\n",
    "sb3 = vr_sb3.loc[date].copy()\n",
    "\n",
    "drh = vr_drh.loc[date].copy()\n",
    "ifh = vr_ifh.loc[date].copy()\n",
    "\n",
    "\n",
    "ax[0].set_ylabel('Power (W)')\n",
    "ax[0].set_xlim(sb1.index[0],sb1.index[-1])\n",
    "ax[0].set_ylim(-40000,40000)\n",
    "ax[0].plot(sb1.index,sb1['p_im']+sb1['p_ex'], color='blue')\n",
    "ax[0].plot(sb1.index,sb2['p_im']+sb2['p_ex'], color='red', ls='--')\n",
    "ax[0].plot(sb1.index,sb3['p_im']+sb3['p_ex'], color='orange', ls='-.')\n",
    "# ax[0].plot(sb1.index, sb1['pv'], color='black',ls='--')\n",
    "ax[0].legend(['SBRC Ph-A Load', 'SBRC Ph-B Load', 'SBRC Ph-C Load'], loc=\"lower left\", ncol=1)\n",
    "\n",
    "ax[1].set_ylabel('Power (W)')\n",
    "ax[1].set_xlim(sb1.index[0],sb1.index[-1])\n",
    "ax[1].set_ylim(-7000,5000)\n",
    "ax[1].plot(drh.index, drh['p_im']+ drh['p_ex'], color='blue')\n",
    "ax[1].plot(ifh.index, ifh['p_im']+ ifh['p_ex'], color='orange',  ls='-.')\n",
    "#ax[1].plot(sb1.index,sb2['p_im']+sb2['p_ex'], color='red')\n",
    "#ax[1].plot(sb1.index, sb2['pv'], color='black',ls='--')\n",
    "ax[1].legend(['DRH Load', 'IFH Load'], loc=\"upper left\", ncol=1)\n",
    "\n",
    "\n",
    "\n",
    "fig.set_figheight(9)\n",
    "fig.set_figwidth(12)# otherwise the right y-label is slightly clipped\n",
    "#     #ax.grid()\n",
    "ax[0].autoscale(enable=True, axis='x', tight=True)\n",
    "ax[1].autoscale(enable=True, axis='x', tight=True)\n",
    "#plt.savefig('Figures/mpc_net_load.pdf')\n",
    "fig.tight_layout()\n",
    "plt.show()\n",
    "    "
   ]
  },
  {
   "cell_type": "code",
   "execution_count": null,
   "metadata": {
    "scrolled": true
   },
   "outputs": [],
   "source": [
    "fig, ax = plt.subplots(5, sharex=True)\n",
    "\n",
    "ax[0].set_ylabel('Voltage L-N (V)')\n",
    "ax[0].set_xlim(volts_before.index[0],volts_before.index[-1])\n",
    "ax[0].set_ylim(241,253)\n",
    "ax[0].plot(volts_before.index,volts_before['SB_Va'], color='blue')\n",
    "#ax[0].plot(sb1.index, sb1['pv'], color='black',ls='--')\n",
    "ax[0].legend(['SBRC Ph-A V'], loc=\"upper left\", ncol=2)\n",
    "\n",
    "ax[1].set_ylabel('Voltage L-N (V)')\n",
    "ax[1].set_xlim(volts_before.index[0],volts_before.index[-1])\n",
    "ax[1].set_ylim(241,253)\n",
    "ax[1].plot(volts_before.index,volts_before['SB_Vb'], color='red')\n",
    "#ax[0].plot(sb1.index, sb1['pv'], color='black',ls='--')\n",
    "ax[1].legend(['SBRC Ph-B V'], loc=\"upper left\", ncol=2)\n",
    "\n",
    "ax[2].set_ylabel('Voltage L-N (V)')\n",
    "ax[2].set_xlim(volts_before.index[0],volts_before.index[-1])\n",
    "ax[2].set_ylim(241,253)\n",
    "ax[2].plot(volts_before.index,volts_before['SB_Vc'], color='orange')\n",
    "#ax[2].plot(sb1.index, sb1['pv'], color='black',ls='--')\n",
    "ax[2].legend(['SBRC Ph-C V'], loc=\"upper left\", ncol=2)\n",
    "\n",
    "\n",
    "ax[3].set_ylabel('Voltage L-N (V)')\n",
    "ax[3].set_xlim(volts_before.index[0],volts_before.index[-1])\n",
    "ax[3].set_ylim(241,253)\n",
    "ax[3].plot(volts_before.index,volts_before['DR_Va'], color='blue')\n",
    "#ax[3].plot(sb1.index, sb1['pv'], color='black',ls='--')\n",
    "ax[3].legend(['DRH V'], loc=\"upper left\", ncol=2)\n",
    "\n",
    "ax[4].set_ylabel('Voltage L-N (V)')\n",
    "ax[4].set_ylim(241,253)\n",
    "ax[4].set_xlim(volts_before.index[0],volts_before.index[-1])\n",
    "ax[4].plot(volts_before.index,volts_before['IF_Vc'], color='orange')\n",
    "#ax[4].plot(sb1.index, sb1['pv'], color='black',ls='--')\n",
    "ax[4].legend(['IFH V'], loc=\"upper left\", ncol=2)\n",
    "\n",
    "\n",
    "fig.tight_layout()\n",
    "fig.set_figheight(16)\n",
    "fig.set_figwidth(12)# otherwise the right y-label is slightly clipped\n",
    "#     #ax.grid()\n",
    "fig.tight_layout()\n",
    "#plt.savefig('Figures/sbrc_mg_rbc_volts.pdf')\n",
    "ax[0].autoscale(enable=True, axis='x', tight=True)\n",
    "ax[1].autoscale(enable=True, axis='x', tight=True)\n",
    "\n",
    "plt.show()\n",
    "    "
   ]
  },
  {
   "cell_type": "markdown",
   "metadata": {},
   "source": [
    "### Minutes above 250V - RBC"
   ]
  },
  {
   "cell_type": "code",
   "execution_count": null,
   "metadata": {},
   "outputs": [],
   "source": [
    "len(volts_before['IF_Vc'][volts_before['IF_Vc']>=250])*5"
   ]
  },
  {
   "cell_type": "code",
   "execution_count": null,
   "metadata": {},
   "outputs": [],
   "source": [
    "len(volts_before['DR_Va'][volts_before['DR_Va']>=250])*5"
   ]
  },
  {
   "cell_type": "markdown",
   "metadata": {},
   "source": [
    "### Maximum voltages - RBC"
   ]
  },
  {
   "cell_type": "code",
   "execution_count": null,
   "metadata": {},
   "outputs": [],
   "source": [
    "volts_before['IF_Vc'].max()"
   ]
  },
  {
   "cell_type": "code",
   "execution_count": null,
   "metadata": {},
   "outputs": [],
   "source": [
    "volts_before['DR_Va'].max()"
   ]
  },
  {
   "cell_type": "markdown",
   "metadata": {},
   "source": [
    "## Net Load Profiles MPC"
   ]
  },
  {
   "cell_type": "code",
   "execution_count": null,
   "metadata": {},
   "outputs": [],
   "source": [
    "fig, ax = plt.subplots(2, sharex=True)\n",
    "\n",
    "sb1 = vr_sb1.loc[date].copy()\n",
    "sb2 = vr_sb2.loc[date].copy()\n",
    "sb3 = vr_sb3.loc[date].copy()\n",
    "\n",
    "drh = vr_drh.loc[date].copy()\n",
    "ifh = vr_ifh.loc[date].copy()\n",
    "\n",
    "\n",
    "ax[0].set_ylabel('Power (W)')\n",
    "ax[0].set_xlim(sb1.index[0],sb1.index[-1])\n",
    "ax[0].set_ylim(-35000,35000)\n",
    "ax[0].plot(sb1.index,sb1['p_im']+sb1['p_ex'], color='blue')\n",
    "ax[0].plot(sb1.index,sb2['p_im']+sb2['p_ex'], color='red', ls='--')\n",
    "ax[0].plot(sb1.index,sb3['p_im']+sb3['p_ex'], color='orange', ls='-.')\n",
    "# ax[0].plot(sb1.index, sb1['pv'], color='black',ls='--')\n",
    "ax[0].legend(['SBRC Ph-A Load', 'SBRC Ph-B Load', 'SBRC Ph-C Load'], loc=\"lower left\", ncol=1)\n",
    "\n",
    "ax[1].set_ylabel('Power (W)')\n",
    "ax[1].set_xlim(sb1.index[0],sb1.index[-1])\n",
    "ax[1].set_ylim(-7000,5000)\n",
    "ax[1].plot(drh.index, drh['p_im']+ drh['p_ex'], color='blue')\n",
    "ax[1].plot(ifh.index, ifh['p_im']+ ifh['p_ex'], color='orange',  ls='-.')\n",
    "#ax[1].plot(sb1.index,sb2['p_im']+sb2['p_ex'], color='red')\n",
    "#ax[1].plot(sb1.index, sb2['pv'], color='black',ls='--')\n",
    "ax[1].legend(['DRH Load', 'IFH Load'], loc=\"upper left\", ncol=1)\n",
    "\n",
    "\n",
    "fig.tight_layout()\n",
    "fig.set_figheight(9)\n",
    "fig.set_figwidth(12)# otherwise the right y-label is slightly clipped\n",
    "#     #ax.grid()\n",
    "\n",
    "#plt.savefig('Figures/mpc_net_load.pdf')\n",
    "ax[0].autoscale(enable=True, axis='x', tight=True)\n",
    "ax[1].autoscale(enable=True, axis='x', tight=True)\n",
    "plt.show()"
   ]
  },
  {
   "cell_type": "code",
   "execution_count": null,
   "metadata": {},
   "outputs": [],
   "source": [
    "print((sb1['p_im']+sb1['p_ex']).min())\n",
    "print((sb2['p_im']+sb2['p_ex']).min())\n",
    "print((sb3['p_im']+sb3['p_ex']).min())\n",
    "print((drh['p_im']+drh['p_ex']).min())\n",
    "print((ifh['p_im']+ifh['p_ex']).min())"
   ]
  },
  {
   "cell_type": "code",
   "execution_count": null,
   "metadata": {},
   "outputs": [],
   "source": [
    "fig, ax = plt.subplots(5, sharex=True)\n",
    "\n",
    "ax[0].set_ylabel('Voltage L-N (V)')\n",
    "ax[0].set_xlim(volts_before.index[0],volts_before.index[-1])\n",
    "ax[0].set_ylim(241,253)\n",
    "ax[0].plot(volts_after.index,volts_after['SB_Va'], color='blue')\n",
    "ax[0].plot(volts_before.index,volts_before['SB_Va'], color='black',ls='--')\n",
    "ax[0].legend(['MPC SBRC Ph-A V','RBC SBRC Ph-A V'], loc=\"upper left\", ncol=1)\n",
    "\n",
    "ax[1].set_ylabel('Voltage L-N (V)')\n",
    "ax[1].set_xlim(volts_before.index[0],volts_before.index[-1])\n",
    "ax[1].set_ylim(241,253)\n",
    "ax[1].plot(volts_after.index,volts_after['SB_Vb'], color='red')\n",
    "ax[1].plot(volts_before.index,volts_before['SB_Vb'], color='black',ls='--')\n",
    "ax[1].legend(['MPC SBRC Ph-B V','RBC SBRC Ph-B V'], loc=\"upper left\", ncol=1)\n",
    "\n",
    "ax[2].set_ylabel('Voltage L-N (V)')\n",
    "ax[2].set_xlim(volts_before.index[0],volts_before.index[-1])\n",
    "ax[2].set_ylim(241,253)\n",
    "ax[2].plot(volts_after.index,volts_after['SB_Vc'], color='orange')\n",
    "ax[2].plot(volts_before.index,volts_before['SB_Vc'], color='black',ls='--')\n",
    "ax[2].legend(['MPC SBRC Ph-C V','RBC SBRC Ph-C V'], loc=\"upper left\", ncol=1)\n",
    "\n",
    "\n",
    "ax[3].set_ylabel('Voltage L-N (V)')\n",
    "ax[3].set_xlim(volts_before.index[0],volts_before.index[-1])\n",
    "ax[3].set_ylim(241,253)\n",
    "ax[3].plot(volts_after.index,volts_after['DR_Va'], color='blue')\n",
    "ax[3].plot(volts_before.index,volts_before['DR_Va'], color='black',ls='--')\n",
    "ax[3].legend(['MPC DRH V','RBC DRH V'], loc=\"upper left\", ncol=1)\n",
    "\n",
    "ax[4].set_ylabel('Voltage L-N (V)')\n",
    "ax[4].set_ylim(241,253)\n",
    "ax[4].set_xlim(volts_before.index[0],volts_before.index[-1])\n",
    "ax[4].plot(volts_after.index,volts_after['IF_Vc'], color='orange')\n",
    "ax[4].plot(volts_before.index,volts_before['IF_Vc'], color='black',ls='--')\n",
    "ax[4].legend(['MPC IFH V', 'RBC IFH V'], loc=\"upper left\", ncol=1)\n",
    "\n",
    "\n",
    "fig.tight_layout()\n",
    "fig.set_figheight(16)\n",
    "fig.set_figwidth(12)# otherwise the right y-label is slightly clipped\n",
    "#     #ax.grid()\n",
    "fig.tight_layout()\n",
    "#plt.savefig('Figures/sbrc_mg_rbc_mpc_volts.pdf')\n",
    "ax[0].autoscale(enable=True, axis='x', tight=True)\n",
    "ax[1].autoscale(enable=True, axis='x', tight=True)\n",
    "\n",
    "plt.show()\n",
    "    "
   ]
  },
  {
   "cell_type": "markdown",
   "metadata": {},
   "source": [
    "### Minutes above 250V - MPC"
   ]
  },
  {
   "cell_type": "code",
   "execution_count": null,
   "metadata": {},
   "outputs": [],
   "source": [
    "len(volts_after['IF_Vc'][volts_after['IF_Vc']>=250])*5"
   ]
  },
  {
   "cell_type": "code",
   "execution_count": null,
   "metadata": {},
   "outputs": [],
   "source": [
    "len(volts_after['DR_Va'][volts_after['DR_Va']>=250])*5"
   ]
  },
  {
   "cell_type": "code",
   "execution_count": null,
   "metadata": {},
   "outputs": [],
   "source": [
    "volts_after['IF_Vc'].max()"
   ]
  },
  {
   "cell_type": "code",
   "execution_count": null,
   "metadata": {},
   "outputs": [],
   "source": [
    "volts_after['DR_Va'].max()"
   ]
  },
  {
   "cell_type": "code",
   "execution_count": null,
   "metadata": {},
   "outputs": [],
   "source": []
  },
  {
   "cell_type": "code",
   "execution_count": null,
   "metadata": {},
   "outputs": [],
   "source": []
  }
 ],
 "metadata": {
  "kernelspec": {
   "display_name": "Python 3",
   "language": "python",
   "name": "python3"
  },
  "language_info": {
   "codemirror_mode": {
    "name": "ipython",
    "version": 3
   },
   "file_extension": ".py",
   "mimetype": "text/x-python",
   "name": "python",
   "nbconvert_exporter": "python",
   "pygments_lexer": "ipython3",
   "version": "3.7.5"
  }
 },
 "nbformat": 4,
 "nbformat_minor": 4
}
